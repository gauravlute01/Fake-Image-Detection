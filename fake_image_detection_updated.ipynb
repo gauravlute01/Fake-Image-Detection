{
 "cells": [
  {
   "cell_type": "code",
   "execution_count": 1,
   "id": "6731a1b0-5a59-4be0-8188-0c50f47a2169",
   "metadata": {},
   "outputs": [],
   "source": [
    "# import kagglehub\n",
    "\n",
    "# # # Download latest version\n",
    "# path = kagglehub.dataset_download(\"birdy654/cifake-real-and-ai-generated-synthetic-images\")\n",
    "\n",
    "# print(\"Path to dataset files:\", path)"
   ]
  },
  {
   "cell_type": "code",
   "execution_count": null,
   "id": "800869b5",
   "metadata": {},
   "outputs": [],
   "source": []
  },
  {
   "cell_type": "markdown",
   "id": "ef3a2ef6-198d-4bcd-a8ef-a1fe1b218cbd",
   "metadata": {},
   "source": [
    "**Basic Libraries**"
   ]
  },
  {
   "cell_type": "code",
   "execution_count": 1,
   "id": "a66fd6d5-e8d4-4b41-971b-26782160767c",
   "metadata": {},
   "outputs": [
    {
     "name": "stderr",
     "output_type": "stream",
     "text": [
      "/home/cfd2/anaconda3/lib/python3.10/site-packages/pandas/core/arrays/masked.py:60: UserWarning: Pandas requires version '1.3.6' or newer of 'bottleneck' (version '1.3.5' currently installed).\n",
      "  from pandas.core import (\n"
     ]
    }
   ],
   "source": [
    "import numpy as np\n",
    "import pandas as pd"
   ]
  },
  {
   "cell_type": "markdown",
   "id": "33dbbc62-8bc8-4d79-81ef-9314e7cbcb8a",
   "metadata": {},
   "source": [
    "**Libraries for Image**"
   ]
  },
  {
   "cell_type": "code",
   "execution_count": 2,
   "id": "da4e6838-f9ef-4945-94ff-c6c6f84c92fc",
   "metadata": {},
   "outputs": [],
   "source": [
    "import cv2\n",
    "import PIL"
   ]
  },
  {
   "cell_type": "code",
   "execution_count": 3,
   "id": "b507d037-a9ab-429e-8a82-1a39819271b6",
   "metadata": {},
   "outputs": [
    {
     "data": {
      "image/png": "iVBORw0KGgoAAAANSUhEUgAAACAAAAAgCAIAAAD8GO2jAAAFMElEQVR4nI1WS2/TShQez4yfY9exG6o2JKWk0IBuEQtgAcvu2COxRGLBL+iaPf8BCeneu+pf6ILHggsLRFcopIBUgZqkNHET7Di2Z8Z3MepgnBRxFta8fL5zvvOYUf79+588z3lB8jwXK3lBwKlACMW0uCUGyqnIFQAALikSqov/y6nEmAUQUlQlFzFjTCr6Ew9KVsut0l/SG8wYE+B/CDDrhBgIPQAAQZE8g4saSxhFGDAjpRgwxhRFkRGSeuYAzPVAeF0MRgmgFAbGmNCGS4SeJUVa5lKkKIo0URCFMYYQ4lKGzE6Li5Lfknbx5ZyLlIEQqqqq67qqquUsyk/zEiHEGJtMJoZhIITiOFZVlTGmqmqWZYqiiF2MsWVZnHPHcRzHqdVqGGPP89bX1wUeLuWJNCdNU2FIkiSmaRJC0jS1LGsymUwmE8dx1tbWKpVKpVKpVquEEELI4uLi9+/fKaVpmj59+nRra+vRo0c/AUouC72O4wRBoCgKpfTbt28rKyuapjWbzc3NzVarZVkWhBBCyBijlL558+bZs2f9fv/WrVtPnjy5ceOGaZpYFmoxI/M8xxhzzhFCYpFSyjm/fPny3bt3EUKmaUKEZDxGo9HOzs7BwUEYhoSQe/fuIYQajcaDBw9+ApT8ME0ziqI4jhljoogajcbW1taC63YPD79+/WqaJuf86Ohof3//y5cvOzs7Dx8+3N7ePjw8pJTW6/W3b99aloWLVhcBZMAJIZzzk5MT0zQHg8Hjx4+fP39+cHBQqVQAAGEY+r5/8eLF7e3t5eXlwWBw/vz5z58/37lzJ47j4XD404NS5qVpihACAOi6LvyAEH78+PHly5ed/Y5IM0KI67qNRuPSpUvtdvvFixeDwWB9fb3T6QyHw+Pj4ziOMfi1dooDkZ2U0jzPl5eXNzY26vX67du3dV1vt9u9Xs91Xdd12+32q1evMprZxA6jEABQXazquj6dTq9cuYJF+RRpEWNN08IwFDBpml67dm13d7fb7eZ5HkWRqqpJmgQnQRRFaZb6nm+aZq1Wo5QSQqrV6srKim3b79+/x2cV8Gg0MgxDJHUcx+/evdvd3WWM9Xq9MAw55wpQWq3W1atXMcbVarVSqfi+n2VZEAT9fr/X6xFC6vU6LlJfBMMY27b948cPzrmmaYwxz/NWV1cVRel0Ont7e5zzVqt18+bNJEl0XQ/D8Pj4GCGkKIppmp8+fep0Oq7r4rMaEWMsDMM4jgWHnuddv3793LlzgrF2u00pNQxjOp0KXz3PC4IAQriwsLC0tBQEwev/Xg+Hw1+CXIw2xlg2otFoBAAghHz48CHLsmazef/+/SiKLly4IHoRIWQ8HotuNh6PKaWO42z+ten7Pp4bgDzPLcvKskzTNJGsnHPLskaj0d7eXrPZ3NjYODo6StNU9Mput2vbtqZp4LR1r66u+r7ved4cisTKdDpljI3HY0mXpmmNRiNJEk3T4jjWdR0hpKqqYRhBEAj2oyhCCCVJQimFEPb7fVzSLseiA4ueatt2FEXT6XRpaalWqyGExuOx67qc836/b9u2KEzDMBRFsW07jmNxGGP8C0BRRAcV91SSJBhjWSucc8MwkiQBACwsLIjzoqeqqiryghASRREAACoFgRDKbxGpOJWLpcFZgksn5LOg9PooHcsLb4DSY2AOwOyesFr+XFQ0V/vvPJg1tghTOj3Xm98jYckJOOWnWG5nOTHrB4RwPoC4FMHM01XcE2dZPcvS7zyQ50qXmpC5MZSRKw7mAvwP7HpPRD+PSQkAAAAASUVORK5CYII=\n",
      "text/plain": [
       "<PIL.JpegImagePlugin.JpegImageFile image mode=RGB size=32x32>"
      ]
     },
     "execution_count": 3,
     "metadata": {},
     "output_type": "execute_result"
    }
   ],
   "source": [
    "from PIL import Image\n",
    "PIL.Image.open('train/FAKE/5999.jpg')"
   ]
  },
  {
   "cell_type": "code",
   "execution_count": 4,
   "id": "d593058d-332d-4ee8-b9e6-0738c78dd44f",
   "metadata": {},
   "outputs": [
    {
     "data": {
      "text/plain": [
       "(32, 32, 3)"
      ]
     },
     "execution_count": 4,
     "metadata": {},
     "output_type": "execute_result"
    }
   ],
   "source": [
    "image = cv2.imread('train/FAKE/5999.jpg')\n",
    "image.shape"
   ]
  },
  {
   "cell_type": "markdown",
   "id": "66e8cbad-9ec4-416d-9fab-e3aa28f830e1",
   "metadata": {},
   "source": [
    "**TRAIN DATAFRAME**"
   ]
  },
  {
   "cell_type": "markdown",
   "id": "b250efe4-e735-470f-8591-44c2abec15cf",
   "metadata": {},
   "source": [
    "Careate Training DataFrame for 'FAKE Image'"
   ]
  },
  {
   "cell_type": "code",
   "execution_count": 5,
   "id": "248d3d84-03c6-454e-9bf9-3e461f48eb59",
   "metadata": {},
   "outputs": [
    {
     "data": {
      "text/plain": [
       "50000"
      ]
     },
     "execution_count": 5,
     "metadata": {},
     "output_type": "execute_result"
    }
   ],
   "source": [
    "train_path_fake = []\n",
    "\n",
    "base_1 = 'train/FAKE/'\n",
    "\n",
    "for i in range(1000, 6000):\n",
    "    a = '{}{}.jpg'.format(base_1, i)\n",
    "    train_path_fake.append(a)\n",
    "for i in range(1000, 6000):\n",
    "    for j in range(2,11):\n",
    "        b = '{}{}.jpg'.format(base_1, i,j)\n",
    "        train_path_fake.append(b)\n",
    "len(train_path_fake)"
   ]
  },
  {
   "cell_type": "code",
   "execution_count": 6,
   "id": "c7386f8a-9c82-4414-a07f-d9186728ac9e",
   "metadata": {},
   "outputs": [
    {
     "data": {
      "text/html": [
       "<div>\n",
       "<style scoped>\n",
       "    .dataframe tbody tr th:only-of-type {\n",
       "        vertical-align: middle;\n",
       "    }\n",
       "\n",
       "    .dataframe tbody tr th {\n",
       "        vertical-align: top;\n",
       "    }\n",
       "\n",
       "    .dataframe thead th {\n",
       "        text-align: right;\n",
       "    }\n",
       "</style>\n",
       "<table border=\"1\" class=\"dataframe\">\n",
       "  <thead>\n",
       "    <tr style=\"text-align: right;\">\n",
       "      <th></th>\n",
       "      <th>path</th>\n",
       "      <th>label</th>\n",
       "    </tr>\n",
       "  </thead>\n",
       "  <tbody>\n",
       "    <tr>\n",
       "      <th>0</th>\n",
       "      <td>train/FAKE/1000.jpg</td>\n",
       "      <td>0</td>\n",
       "    </tr>\n",
       "    <tr>\n",
       "      <th>1</th>\n",
       "      <td>train/FAKE/1001.jpg</td>\n",
       "      <td>0</td>\n",
       "    </tr>\n",
       "    <tr>\n",
       "      <th>2</th>\n",
       "      <td>train/FAKE/1002.jpg</td>\n",
       "      <td>0</td>\n",
       "    </tr>\n",
       "    <tr>\n",
       "      <th>3</th>\n",
       "      <td>train/FAKE/1003.jpg</td>\n",
       "      <td>0</td>\n",
       "    </tr>\n",
       "    <tr>\n",
       "      <th>4</th>\n",
       "      <td>train/FAKE/1004.jpg</td>\n",
       "      <td>0</td>\n",
       "    </tr>\n",
       "  </tbody>\n",
       "</table>\n",
       "</div>"
      ],
      "text/plain": [
       "                  path  label\n",
       "0  train/FAKE/1000.jpg      0\n",
       "1  train/FAKE/1001.jpg      0\n",
       "2  train/FAKE/1002.jpg      0\n",
       "3  train/FAKE/1003.jpg      0\n",
       "4  train/FAKE/1004.jpg      0"
      ]
     },
     "execution_count": 6,
     "metadata": {},
     "output_type": "execute_result"
    }
   ],
   "source": [
    "df_train_fake = pd.DataFrame(train_path_fake)\n",
    "df_train_fake.columns = ['path']\n",
    "df_train_fake['label'] = 0\n",
    "df_train_fake.head()"
   ]
  },
  {
   "cell_type": "code",
   "execution_count": 7,
   "id": "62449c4b-2205-4ca2-bd47-99f6b4a3ce74",
   "metadata": {},
   "outputs": [
    {
     "data": {
      "text/plain": [
       "(50000, 2)"
      ]
     },
     "execution_count": 7,
     "metadata": {},
     "output_type": "execute_result"
    }
   ],
   "source": [
    "df_train_fake.shape"
   ]
  },
  {
   "cell_type": "markdown",
   "id": "7eb31f7d-70c0-4938-af0b-00dcbe2ffe0c",
   "metadata": {},
   "source": [
    "**Creating Training Dataframe for 'Real Image'**"
   ]
  },
  {
   "cell_type": "code",
   "execution_count": 8,
   "id": "24343e55-8582-4b8e-a845-fd1a03962858",
   "metadata": {},
   "outputs": [
    {
     "data": {
      "text/plain": [
       "100"
      ]
     },
     "execution_count": 8,
     "metadata": {},
     "output_type": "execute_result"
    }
   ],
   "source": [
    "train_path_real = []\n",
    "base_2 = 'train/REAL/'\n",
    "for i in range(0,10):\n",
    "    c ='{}000{}.jpg'.format(base_2,i)\n",
    "    train_path_real.append(c)\n",
    "for i in range(0,10):\n",
    "    for j in range(2,11):\n",
    "        d ='{}000{} ({}).jpg'.format(base_2,i,j)\n",
    "        train_path_real.append(d)\n",
    "len(train_path_real)"
   ]
  },
  {
   "cell_type": "code",
   "execution_count": 9,
   "id": "daf5a3e1-c560-4425-943a-2744a4606260",
   "metadata": {},
   "outputs": [
    {
     "data": {
      "text/plain": [
       "1000"
      ]
     },
     "execution_count": 9,
     "metadata": {},
     "output_type": "execute_result"
    }
   ],
   "source": [
    "for i in range(10, 100):\n",
    "    e = '{}00{}.jpg'.format(base_2, i)\n",
    "    train_path_real.append(e)\n",
    "for i in range(10, 100):\n",
    "    for j in range(2,11):\n",
    "        f = '{}00{} ({}).jpg'.format(base_2,i,j)\n",
    "        train_path_real.append(f)\n",
    "len(train_path_real)"
   ]
  },
  {
   "cell_type": "code",
   "execution_count": 10,
   "id": "ee6aa23a-e776-4026-921d-fd616c56e3f6",
   "metadata": {},
   "outputs": [
    {
     "data": {
      "text/plain": [
       "10000"
      ]
     },
     "execution_count": 10,
     "metadata": {},
     "output_type": "execute_result"
    }
   ],
   "source": [
    "for i in range(100,1000):\n",
    "    g = '{}0{}.jpg'.format(base_2, i)\n",
    "    train_path_real.append(g)\n",
    "\n",
    "for i in range(100,1000):\n",
    "    for j in range(2,11):\n",
    "        h = '{}0{} ({}).jpg'.format(base_2, i,j)\n",
    "        train_path_real.append(h)\n",
    "len(train_path_real)"
   ]
  },
  {
   "cell_type": "code",
   "execution_count": 11,
   "id": "ffcbd0c8-e643-4bf0-a2cb-a0ee35b14e22",
   "metadata": {},
   "outputs": [
    {
     "data": {
      "text/plain": [
       "50000"
      ]
     },
     "execution_count": 11,
     "metadata": {},
     "output_type": "execute_result"
    }
   ],
   "source": [
    "for i in range(1000, 5000):\n",
    "    k = '{}{}.jpg'.format(base_2, i)\n",
    "    train_path_real.append(k)\n",
    "for i in range(1000, 5000):\n",
    "    for j in range(2,11):\n",
    "        l = '{}{} ({}).jpg'.format(base_2, i,j)\n",
    "        train_path_real.append(l)\n",
    "len(train_path_real)"
   ]
  },
  {
   "cell_type": "code",
   "execution_count": 12,
   "id": "97fe4ecf-35c0-42d4-93cf-22dcec48c7a2",
   "metadata": {},
   "outputs": [
    {
     "data": {
      "text/html": [
       "<div>\n",
       "<style scoped>\n",
       "    .dataframe tbody tr th:only-of-type {\n",
       "        vertical-align: middle;\n",
       "    }\n",
       "\n",
       "    .dataframe tbody tr th {\n",
       "        vertical-align: top;\n",
       "    }\n",
       "\n",
       "    .dataframe thead th {\n",
       "        text-align: right;\n",
       "    }\n",
       "</style>\n",
       "<table border=\"1\" class=\"dataframe\">\n",
       "  <thead>\n",
       "    <tr style=\"text-align: right;\">\n",
       "      <th></th>\n",
       "      <th>path</th>\n",
       "      <th>label</th>\n",
       "    </tr>\n",
       "  </thead>\n",
       "  <tbody>\n",
       "    <tr>\n",
       "      <th>0</th>\n",
       "      <td>train/REAL/0000.jpg</td>\n",
       "      <td>1</td>\n",
       "    </tr>\n",
       "    <tr>\n",
       "      <th>1</th>\n",
       "      <td>train/REAL/0001.jpg</td>\n",
       "      <td>1</td>\n",
       "    </tr>\n",
       "    <tr>\n",
       "      <th>2</th>\n",
       "      <td>train/REAL/0002.jpg</td>\n",
       "      <td>1</td>\n",
       "    </tr>\n",
       "    <tr>\n",
       "      <th>3</th>\n",
       "      <td>train/REAL/0003.jpg</td>\n",
       "      <td>1</td>\n",
       "    </tr>\n",
       "    <tr>\n",
       "      <th>4</th>\n",
       "      <td>train/REAL/0004.jpg</td>\n",
       "      <td>1</td>\n",
       "    </tr>\n",
       "  </tbody>\n",
       "</table>\n",
       "</div>"
      ],
      "text/plain": [
       "                  path  label\n",
       "0  train/REAL/0000.jpg      1\n",
       "1  train/REAL/0001.jpg      1\n",
       "2  train/REAL/0002.jpg      1\n",
       "3  train/REAL/0003.jpg      1\n",
       "4  train/REAL/0004.jpg      1"
      ]
     },
     "execution_count": 12,
     "metadata": {},
     "output_type": "execute_result"
    }
   ],
   "source": [
    "df_train_real = pd.DataFrame(train_path_real)\n",
    "df_train_real.columns = ['path']\n",
    "df_train_real['label'] = 1\n",
    "df_train_real.head()"
   ]
  },
  {
   "cell_type": "code",
   "execution_count": 13,
   "id": "e902e10b-2269-4307-8f28-8d232ecab09c",
   "metadata": {},
   "outputs": [
    {
     "data": {
      "text/plain": [
       "(50000, 2)"
      ]
     },
     "execution_count": 13,
     "metadata": {},
     "output_type": "execute_result"
    }
   ],
   "source": [
    "df_train_real.shape"
   ]
  },
  {
   "cell_type": "markdown",
   "id": "6d06b26a-7694-4b4c-9c09-5bee4e88cd08",
   "metadata": {},
   "source": [
    "Using **concat** to create **df_train**"
   ]
  },
  {
   "cell_type": "code",
   "execution_count": 14,
   "id": "ea334423-3da7-4942-bb72-4610c4df7b8a",
   "metadata": {},
   "outputs": [
    {
     "name": "stdout",
     "output_type": "stream",
     "text": [
      "(100000, 2)\n"
     ]
    },
    {
     "data": {
      "text/html": [
       "<div>\n",
       "<style scoped>\n",
       "    .dataframe tbody tr th:only-of-type {\n",
       "        vertical-align: middle;\n",
       "    }\n",
       "\n",
       "    .dataframe tbody tr th {\n",
       "        vertical-align: top;\n",
       "    }\n",
       "\n",
       "    .dataframe thead th {\n",
       "        text-align: right;\n",
       "    }\n",
       "</style>\n",
       "<table border=\"1\" class=\"dataframe\">\n",
       "  <thead>\n",
       "    <tr style=\"text-align: right;\">\n",
       "      <th></th>\n",
       "      <th>path</th>\n",
       "      <th>label</th>\n",
       "    </tr>\n",
       "  </thead>\n",
       "  <tbody>\n",
       "    <tr>\n",
       "      <th>0</th>\n",
       "      <td>train/FAKE/1000.jpg</td>\n",
       "      <td>0</td>\n",
       "    </tr>\n",
       "    <tr>\n",
       "      <th>1</th>\n",
       "      <td>train/FAKE/1001.jpg</td>\n",
       "      <td>0</td>\n",
       "    </tr>\n",
       "    <tr>\n",
       "      <th>2</th>\n",
       "      <td>train/FAKE/1002.jpg</td>\n",
       "      <td>0</td>\n",
       "    </tr>\n",
       "    <tr>\n",
       "      <th>3</th>\n",
       "      <td>train/FAKE/1003.jpg</td>\n",
       "      <td>0</td>\n",
       "    </tr>\n",
       "    <tr>\n",
       "      <th>4</th>\n",
       "      <td>train/FAKE/1004.jpg</td>\n",
       "      <td>0</td>\n",
       "    </tr>\n",
       "  </tbody>\n",
       "</table>\n",
       "</div>"
      ],
      "text/plain": [
       "                  path  label\n",
       "0  train/FAKE/1000.jpg      0\n",
       "1  train/FAKE/1001.jpg      0\n",
       "2  train/FAKE/1002.jpg      0\n",
       "3  train/FAKE/1003.jpg      0\n",
       "4  train/FAKE/1004.jpg      0"
      ]
     },
     "execution_count": 14,
     "metadata": {},
     "output_type": "execute_result"
    }
   ],
   "source": [
    "df_train = pd.concat((df_train_fake, df_train_real), axis =0)\n",
    "print(df_train.shape)\n",
    "df_train.head()"
   ]
  },
  {
   "cell_type": "markdown",
   "id": "cfb53497-4bd6-435b-bcc9-00be800f1409",
   "metadata": {},
   "source": [
    "Using **'CV2'** for X_train"
   ]
  },
  {
   "cell_type": "code",
   "execution_count": 35,
   "id": "8293e1ce-5837-4b00-b1b2-ddae97c18d95",
   "metadata": {},
   "outputs": [
    {
     "data": {
      "text/plain": [
       "4"
      ]
     },
     "execution_count": 35,
     "metadata": {},
     "output_type": "execute_result"
    }
   ],
   "source": [
    "image_df = []\n",
    "for image in df_train['path']:\n",
    "    img = cv2.imread(image)\n",
    "    resized = cv2.resize(img,(32,32))\n",
    "    image_df.append(resized)\n",
    "image_array = np.array(image_df)\n",
    "X_train = image_array/255\n",
    "X_train.ndim"
   ]
  },
  {
   "cell_type": "code",
   "execution_count": null,
   "id": "de864e60",
   "metadata": {},
   "outputs": [],
   "source": []
  },
  {
   "cell_type": "code",
   "execution_count": 20,
   "id": "749bd064",
   "metadata": {},
   "outputs": [],
   "source": [
    "# img = cv2.imread('train/REAL/1000.jpg')\n",
    "# import matplotlib.pyplot as plt\n",
    "# plt.imshow(img);plt.show()"
   ]
  },
  {
   "cell_type": "code",
   "execution_count": 21,
   "id": "e7e054c8",
   "metadata": {},
   "outputs": [
    {
     "data": {
      "text/plain": [
       "0    0\n",
       "1    0\n",
       "2    0\n",
       "3    0\n",
       "4    0\n",
       "Name: label, dtype: int64"
      ]
     },
     "execution_count": 21,
     "metadata": {},
     "output_type": "execute_result"
    }
   ],
   "source": [
    "y_train = df_train['label']\n",
    "y_train.head()"
   ]
  },
  {
   "cell_type": "markdown",
   "id": "ffda0f55-1b78-413c-a3e1-90e0342c5946",
   "metadata": {},
   "source": [
    "**TEST DATAFRAME**"
   ]
  },
  {
   "cell_type": "markdown",
   "id": "586d296c-1803-41f7-a753-80dddf314433",
   "metadata": {},
   "source": [
    "Creating Testing Dataframe for \"Fake Image"
   ]
  },
  {
   "cell_type": "code",
   "execution_count": 22,
   "id": "c873f9b5-f664-410f-968b-4cb6cef2f89d",
   "metadata": {},
   "outputs": [
    {
     "data": {
      "text/plain": [
       "10000"
      ]
     },
     "execution_count": 22,
     "metadata": {},
     "output_type": "execute_result"
    }
   ],
   "source": [
    "test_path_fake =[]\n",
    "\n",
    "base_3 = 'test/FAKE/'\n",
    "\n",
    "for i in range(0,1000):\n",
    "    m = '{}{}.jpg'.format(base_3, i)\n",
    "    test_path_fake.append(m)\n",
    "    \n",
    "for i in range(0,1000):\n",
    "    for j in range(2,11):\n",
    "        n = '{}{} ({}).jpg'.format(base_3, i, j)\n",
    "        test_path_fake.append(n)\n",
    "len(test_path_fake)"
   ]
  },
  {
   "cell_type": "code",
   "execution_count": 23,
   "id": "e42385c1-9751-4c8a-b769-0e8b123ca973",
   "metadata": {},
   "outputs": [
    {
     "data": {
      "text/html": [
       "<div>\n",
       "<style scoped>\n",
       "    .dataframe tbody tr th:only-of-type {\n",
       "        vertical-align: middle;\n",
       "    }\n",
       "\n",
       "    .dataframe tbody tr th {\n",
       "        vertical-align: top;\n",
       "    }\n",
       "\n",
       "    .dataframe thead th {\n",
       "        text-align: right;\n",
       "    }\n",
       "</style>\n",
       "<table border=\"1\" class=\"dataframe\">\n",
       "  <thead>\n",
       "    <tr style=\"text-align: right;\">\n",
       "      <th></th>\n",
       "      <th>path</th>\n",
       "      <th>label</th>\n",
       "    </tr>\n",
       "  </thead>\n",
       "  <tbody>\n",
       "    <tr>\n",
       "      <th>0</th>\n",
       "      <td>test/FAKE/0.jpg</td>\n",
       "      <td>0</td>\n",
       "    </tr>\n",
       "    <tr>\n",
       "      <th>1</th>\n",
       "      <td>test/FAKE/1.jpg</td>\n",
       "      <td>0</td>\n",
       "    </tr>\n",
       "    <tr>\n",
       "      <th>2</th>\n",
       "      <td>test/FAKE/2.jpg</td>\n",
       "      <td>0</td>\n",
       "    </tr>\n",
       "    <tr>\n",
       "      <th>3</th>\n",
       "      <td>test/FAKE/3.jpg</td>\n",
       "      <td>0</td>\n",
       "    </tr>\n",
       "    <tr>\n",
       "      <th>4</th>\n",
       "      <td>test/FAKE/4.jpg</td>\n",
       "      <td>0</td>\n",
       "    </tr>\n",
       "  </tbody>\n",
       "</table>\n",
       "</div>"
      ],
      "text/plain": [
       "              path  label\n",
       "0  test/FAKE/0.jpg      0\n",
       "1  test/FAKE/1.jpg      0\n",
       "2  test/FAKE/2.jpg      0\n",
       "3  test/FAKE/3.jpg      0\n",
       "4  test/FAKE/4.jpg      0"
      ]
     },
     "execution_count": 23,
     "metadata": {},
     "output_type": "execute_result"
    }
   ],
   "source": [
    "df_test_fake = pd.DataFrame(test_path_fake)\n",
    "df_test_fake.columns = ['path']\n",
    "df_test_fake['label'] = 0\n",
    "df_test_fake.head()"
   ]
  },
  {
   "cell_type": "markdown",
   "id": "4507cd87-25d0-4e57-b3f0-d2b19c42ac74",
   "metadata": {},
   "source": [
    "Creating Testing Dataframe for \"Real Image\""
   ]
  },
  {
   "cell_type": "code",
   "execution_count": 24,
   "id": "9da03d81-16ef-43bb-bc43-3b6f0fe9833b",
   "metadata": {},
   "outputs": [
    {
     "data": {
      "text/plain": [
       "100"
      ]
     },
     "execution_count": 24,
     "metadata": {},
     "output_type": "execute_result"
    }
   ],
   "source": [
    "test_path_real =[]\n",
    "\n",
    "base_4 = 'test/REAL/'\n",
    "\n",
    "for i in range(0,10):\n",
    "    o = '{}000{}.jpg'.format(base_4, i)\n",
    "    test_path_real.append(o)\n",
    "\n",
    "for i in range(0,10):\n",
    "    for j in range(2,11):\n",
    "        p = '{}000{} ({}).jpg'.format(base_4, i,j)\n",
    "        test_path_real.append(p)\n",
    "len(test_path_real)"
   ]
  },
  {
   "cell_type": "code",
   "execution_count": 25,
   "id": "50c7ff1c-a7ff-48de-9a40-a29a95c3fc4d",
   "metadata": {},
   "outputs": [
    {
     "data": {
      "text/plain": [
       "1000"
      ]
     },
     "execution_count": 25,
     "metadata": {},
     "output_type": "execute_result"
    }
   ],
   "source": [
    "for i in range(10,100):\n",
    "    q = '{}00{}.jpg'.format(base_4, i)\n",
    "    test_path_real.append(q)\n",
    "\n",
    "for i in range(10,100):\n",
    "    for j in range(2,11):\n",
    "        r = '{}00{} ({}).jpg'.format(base_4, i,j)\n",
    "        test_path_real.append(r)\n",
    "len(test_path_real) "
   ]
  },
  {
   "cell_type": "code",
   "execution_count": 26,
   "id": "e1a40172-632a-407a-9047-26dce7a7c7b4",
   "metadata": {},
   "outputs": [
    {
     "data": {
      "text/plain": [
       "10000"
      ]
     },
     "execution_count": 26,
     "metadata": {},
     "output_type": "execute_result"
    }
   ],
   "source": [
    "for i in range(100,1000):\n",
    "    s = '{}0{}.jpg'.format(base_4, i)\n",
    "    test_path_real.append(s)\n",
    "    \n",
    "for i in range(100,1000):\n",
    "    for j in range(2,11):\n",
    "        t = '{}0{} ({}).jpg'.format(base_4, i,j)\n",
    "        test_path_real.append(t)\n",
    "len(test_path_real)"
   ]
  },
  {
   "cell_type": "code",
   "execution_count": 27,
   "id": "ded96d2d-08a8-46d4-9644-a730537816f8",
   "metadata": {},
   "outputs": [
    {
     "data": {
      "text/html": [
       "<div>\n",
       "<style scoped>\n",
       "    .dataframe tbody tr th:only-of-type {\n",
       "        vertical-align: middle;\n",
       "    }\n",
       "\n",
       "    .dataframe tbody tr th {\n",
       "        vertical-align: top;\n",
       "    }\n",
       "\n",
       "    .dataframe thead th {\n",
       "        text-align: right;\n",
       "    }\n",
       "</style>\n",
       "<table border=\"1\" class=\"dataframe\">\n",
       "  <thead>\n",
       "    <tr style=\"text-align: right;\">\n",
       "      <th></th>\n",
       "      <th>path</th>\n",
       "      <th>label</th>\n",
       "    </tr>\n",
       "  </thead>\n",
       "  <tbody>\n",
       "    <tr>\n",
       "      <th>0</th>\n",
       "      <td>test/REAL/0000.jpg</td>\n",
       "      <td>1</td>\n",
       "    </tr>\n",
       "    <tr>\n",
       "      <th>1</th>\n",
       "      <td>test/REAL/0001.jpg</td>\n",
       "      <td>1</td>\n",
       "    </tr>\n",
       "    <tr>\n",
       "      <th>2</th>\n",
       "      <td>test/REAL/0002.jpg</td>\n",
       "      <td>1</td>\n",
       "    </tr>\n",
       "    <tr>\n",
       "      <th>3</th>\n",
       "      <td>test/REAL/0003.jpg</td>\n",
       "      <td>1</td>\n",
       "    </tr>\n",
       "    <tr>\n",
       "      <th>4</th>\n",
       "      <td>test/REAL/0004.jpg</td>\n",
       "      <td>1</td>\n",
       "    </tr>\n",
       "  </tbody>\n",
       "</table>\n",
       "</div>"
      ],
      "text/plain": [
       "                 path  label\n",
       "0  test/REAL/0000.jpg      1\n",
       "1  test/REAL/0001.jpg      1\n",
       "2  test/REAL/0002.jpg      1\n",
       "3  test/REAL/0003.jpg      1\n",
       "4  test/REAL/0004.jpg      1"
      ]
     },
     "execution_count": 27,
     "metadata": {},
     "output_type": "execute_result"
    }
   ],
   "source": [
    "df_test_real = pd.DataFrame(test_path_real)\n",
    "df_test_real.columns = ['path']\n",
    "df_test_real['label'] = 1\n",
    "df_test_real.head()"
   ]
  },
  {
   "cell_type": "markdown",
   "id": "835151a0-4220-49a5-aa2d-e33fe5c37704",
   "metadata": {},
   "source": [
    "Using \"concat\" to create \"df_test\""
   ]
  },
  {
   "cell_type": "code",
   "execution_count": 28,
   "id": "f0fae19b-dde1-474a-b55b-4bf5a68c1cc7",
   "metadata": {},
   "outputs": [
    {
     "name": "stdout",
     "output_type": "stream",
     "text": [
      "(20000, 2)\n"
     ]
    },
    {
     "data": {
      "text/html": [
       "<div>\n",
       "<style scoped>\n",
       "    .dataframe tbody tr th:only-of-type {\n",
       "        vertical-align: middle;\n",
       "    }\n",
       "\n",
       "    .dataframe tbody tr th {\n",
       "        vertical-align: top;\n",
       "    }\n",
       "\n",
       "    .dataframe thead th {\n",
       "        text-align: right;\n",
       "    }\n",
       "</style>\n",
       "<table border=\"1\" class=\"dataframe\">\n",
       "  <thead>\n",
       "    <tr style=\"text-align: right;\">\n",
       "      <th></th>\n",
       "      <th>path</th>\n",
       "      <th>label</th>\n",
       "    </tr>\n",
       "  </thead>\n",
       "  <tbody>\n",
       "    <tr>\n",
       "      <th>1587</th>\n",
       "      <td>test/REAL/0687.jpg</td>\n",
       "      <td>1</td>\n",
       "    </tr>\n",
       "    <tr>\n",
       "      <th>8192</th>\n",
       "      <td>test/REAL/0799 (3).jpg</td>\n",
       "      <td>1</td>\n",
       "    </tr>\n",
       "    <tr>\n",
       "      <th>9332</th>\n",
       "      <td>test/FAKE/925 (9).jpg</td>\n",
       "      <td>0</td>\n",
       "    </tr>\n",
       "    <tr>\n",
       "      <th>87</th>\n",
       "      <td>test/FAKE/87.jpg</td>\n",
       "      <td>0</td>\n",
       "    </tr>\n",
       "    <tr>\n",
       "      <th>879</th>\n",
       "      <td>test/REAL/0086 (7).jpg</td>\n",
       "      <td>1</td>\n",
       "    </tr>\n",
       "  </tbody>\n",
       "</table>\n",
       "</div>"
      ],
      "text/plain": [
       "                        path  label\n",
       "1587      test/REAL/0687.jpg      1\n",
       "8192  test/REAL/0799 (3).jpg      1\n",
       "9332   test/FAKE/925 (9).jpg      0\n",
       "87          test/FAKE/87.jpg      0\n",
       "879   test/REAL/0086 (7).jpg      1"
      ]
     },
     "execution_count": 28,
     "metadata": {},
     "output_type": "execute_result"
    }
   ],
   "source": [
    "df_test = pd.concat((df_test_fake, df_test_real), axis = 0 )\n",
    "print(df_test.shape)\n",
    "df_test.sample(5)"
   ]
  },
  {
   "cell_type": "markdown",
   "id": "330021b2-f88a-4487-979f-363e4236eff4",
   "metadata": {},
   "source": [
    "Using \"cv2\" to create X_test\""
   ]
  },
  {
   "cell_type": "code",
   "execution_count": 34,
   "id": "239ead60-b07d-4bfc-84d7-66fd93611347",
   "metadata": {},
   "outputs": [
    {
     "data": {
      "text/plain": [
       "4"
      ]
     },
     "execution_count": 34,
     "metadata": {},
     "output_type": "execute_result"
    }
   ],
   "source": [
    "image_ds = []\n",
    "for image in df_test['path']:\n",
    "    imge = cv2.imread(image)\n",
    "    resize = cv2.resize(imge,(32,32))\n",
    "    image_ds.append(resize)\n",
    "image_arry = np.array(image_ds)\n",
    "X_test = image_arry/255\n",
    "X_test.ndim"
   ]
  },
  {
   "cell_type": "code",
   "execution_count": 31,
   "id": "ffb289ae-3569-41d6-b189-bfd68088e528",
   "metadata": {},
   "outputs": [
    {
     "data": {
      "text/plain": [
       "0    0\n",
       "1    0\n",
       "2    0\n",
       "3    0\n",
       "4    0\n",
       "Name: label, dtype: int64"
      ]
     },
     "execution_count": 31,
     "metadata": {},
     "output_type": "execute_result"
    }
   ],
   "source": [
    "y_test = df_test['label']\n",
    "y_test.head()"
   ]
  },
  {
   "cell_type": "markdown",
   "id": "40fb5edd-5e94-4bd5-ae2a-22c0f1e99ab8",
   "metadata": {},
   "source": [
    "Importing \"keras\" for CNN"
   ]
  },
  {
   "cell_type": "code",
   "execution_count": null,
   "id": "0271b120-62c8-48bd-91ff-a054602073f0",
   "metadata": {},
   "outputs": [],
   "source": []
  },
  {
   "cell_type": "code",
   "execution_count": null,
   "id": "d59130c5-1728-4f93-af46-00f1d6c7cf6d",
   "metadata": {},
   "outputs": [],
   "source": []
  },
  {
   "cell_type": "code",
   "execution_count": 32,
   "id": "1e3863c5",
   "metadata": {},
   "outputs": [],
   "source": [
    "# import tensorflow as tf\n",
    "# from tensorflow.keras import layers, models\n",
    "\n",
    "# # Define the model\n",
    "# model = models.Sequential()\n",
    "\n",
    "# # First convolution block\n",
    "# model.add(layers.Conv2D(filters=32, kernel_size=2, padding=\"same\", activation=\"relu\", input_shape=[32, 32, 3]))\n",
    "# model.add(layers.Conv2D(filters=32, kernel_size=2, activation=\"relu\"))\n",
    "# model.add(layers.MaxPool2D(pool_size=2, strides=2))\n",
    "\n",
    "# # Second convolution block\n",
    "# model.add(layers.Conv2D(filters=64, kernel_size=2, padding=\"same\", activation=\"relu\"))\n",
    "# model.add(layers.Conv2D(filters=64, kernel_size=2, activation=\"relu\"))\n",
    "# model.add(layers.MaxPool2D(pool_size=2, strides=2))\n",
    "\n",
    "# # Third convolution block\n",
    "# model.add(layers.Conv2D(filters=128, kernel_size=2, padding=\"same\", activation=\"relu\"))\n",
    "# model.add(layers.Conv2D(filters=128, kernel_size=2, activation=\"relu\"))\n",
    "# model.add(layers.MaxPool2D(pool_size=2, strides=2))\n",
    "\n",
    "# # Fourth convolution block\n",
    "# model.add(layers.Conv2D(filters=256, kernel_size=2, padding=\"same\", activation=\"relu\"))\n",
    "# model.add(layers.Conv2D(filters=256, kernel_size=2, activation=\"relu\"))\n",
    "# model.add(layers.MaxPool2D(pool_size=2, strides=2))\n",
    "\n",
    "# # Fifth convolution block\n",
    "# model.add(layers.Conv2D(filters=512, kernel_size=2, padding=\"same\", activation=\"relu\"))\n",
    "# model.add(layers.Conv2D(filters=512, kernel_size=2, activation=\"relu\"))\n",
    "# model.add(layers.MaxPool2D(pool_size=2, strides=2))\n",
    "\n",
    "# # Dropout layer\n",
    "# model.add(layers.Dropout(0.25))\n",
    "\n",
    "# # Flatten the 3D tensor to 1D for Dense layer\n",
    "# model.add(layers.Flatten())\n",
    "\n",
    "# # Fully connected layer\n",
    "# model.add(layers.Dense(units=1500, activation='relu'))  # Hidden layer with ReLU\n",
    "\n",
    "# # Dropout layer\n",
    "# #model.add(layers.Dropout(0.3))\n",
    "\n",
    "# # Output layer\n",
    "# model.add(layers.Dense(units=2, activation='sigmoid'))  # Output layer for binary classification\n",
    "\n",
    "# # Compile the model\n",
    "# model.compile(\n",
    "#     optimizer=tf.keras.optimizers.Adam(learning_rate=0.0001),  # Adam optimizer with small learning rate\n",
    "#     loss='binary_crossentropy',
    "#     metrics=['accuracy']  # Track accuracy during training\n",
    "# )\n",
    "\n",
    "# # Print model summary to see the architecture\n",
    "# model.summary()\n",
    "\n",
    "# # Fit the model to the training data (X_train, y_train)\n",
    "# model.fit(X_train, y_train, epochs=10)\n"
   ]
  },
  {
   "cell_type": "code",
   "execution_count": 75,
   "id": "2158ed94",
   "metadata": {},
   "outputs": [
    {
     "name": "stderr",
     "output_type": "stream",
     "text": [
      "/home/cfd2/anaconda3/lib/python3.10/site-packages/keras/src/layers/convolutional/base_conv.py:107: UserWarning: Do not pass an `input_shape`/`input_dim` argument to a layer. When using Sequential models, prefer using an `Input(shape)` object as the first layer in the model instead.\n",
      "  super().__init__(activity_regularizer=activity_regularizer, **kwargs)\n"
     ]
    },
    {
     "data": {
      "text/html": [
       "<pre style=\"white-space:pre;overflow-x:auto;line-height:normal;font-family:Menlo,'DejaVu Sans Mono',consolas,'Courier New',monospace\"><span style=\"font-weight: bold\">Model: \"sequential_3\"</span>\n",
       "</pre>\n"
      ],
      "text/plain": [
       "\u001b[1mModel: \"sequential_3\"\u001b[0m\n"
      ]
     },
     "metadata": {},
     "output_type": "display_data"
    },
    {
     "data": {
      "text/html": [
       "<pre style=\"white-space:pre;overflow-x:auto;line-height:normal;font-family:Menlo,'DejaVu Sans Mono',consolas,'Courier New',monospace\">┏━━━━━━━━━━━━━━━━━━━━━━━━━━━━━━━━━┳━━━━━━━━━━━━━━━━━━━━━━━━┳━━━━━━━━━━━━━━━┓\n",
       "┃<span style=\"font-weight: bold\"> Layer (type)                    </span>┃<span style=\"font-weight: bold\"> Output Shape           </span>┃<span style=\"font-weight: bold\">       Param # </span>┃\n",
       "┡━━━━━━━━━━━━━━━━━━━━━━━━━━━━━━━━━╇━━━━━━━━━━━━━━━━━━━━━━━━╇━━━━━━━━━━━━━━━┩\n",
       "│ conv2d_24 (<span style=\"color: #0087ff; text-decoration-color: #0087ff\">Conv2D</span>)              │ (<span style=\"color: #00d7ff; text-decoration-color: #00d7ff\">None</span>, <span style=\"color: #00af00; text-decoration-color: #00af00\">32</span>, <span style=\"color: #00af00; text-decoration-color: #00af00\">32</span>, <span style=\"color: #00af00; text-decoration-color: #00af00\">32</span>)     │           <span style=\"color: #00af00; text-decoration-color: #00af00\">416</span> │\n",
       "├─────────────────────────────────┼────────────────────────┼───────────────┤\n",
       "│ conv2d_25 (<span style=\"color: #0087ff; text-decoration-color: #0087ff\">Conv2D</span>)              │ (<span style=\"color: #00d7ff; text-decoration-color: #00d7ff\">None</span>, <span style=\"color: #00af00; text-decoration-color: #00af00\">31</span>, <span style=\"color: #00af00; text-decoration-color: #00af00\">31</span>, <span style=\"color: #00af00; text-decoration-color: #00af00\">32</span>)     │         <span style=\"color: #00af00; text-decoration-color: #00af00\">4,128</span> │\n",
       "├─────────────────────────────────┼────────────────────────┼───────────────┤\n",
       "│ max_pooling2d_12 (<span style=\"color: #0087ff; text-decoration-color: #0087ff\">MaxPooling2D</span>) │ (<span style=\"color: #00d7ff; text-decoration-color: #00d7ff\">None</span>, <span style=\"color: #00af00; text-decoration-color: #00af00\">15</span>, <span style=\"color: #00af00; text-decoration-color: #00af00\">15</span>, <span style=\"color: #00af00; text-decoration-color: #00af00\">32</span>)     │             <span style=\"color: #00af00; text-decoration-color: #00af00\">0</span> │\n",
       "├─────────────────────────────────┼────────────────────────┼───────────────┤\n",
       "│ conv2d_26 (<span style=\"color: #0087ff; text-decoration-color: #0087ff\">Conv2D</span>)              │ (<span style=\"color: #00d7ff; text-decoration-color: #00d7ff\">None</span>, <span style=\"color: #00af00; text-decoration-color: #00af00\">15</span>, <span style=\"color: #00af00; text-decoration-color: #00af00\">15</span>, <span style=\"color: #00af00; text-decoration-color: #00af00\">64</span>)     │         <span style=\"color: #00af00; text-decoration-color: #00af00\">8,256</span> │\n",
       "├─────────────────────────────────┼────────────────────────┼───────────────┤\n",
       "│ conv2d_27 (<span style=\"color: #0087ff; text-decoration-color: #0087ff\">Conv2D</span>)              │ (<span style=\"color: #00d7ff; text-decoration-color: #00d7ff\">None</span>, <span style=\"color: #00af00; text-decoration-color: #00af00\">14</span>, <span style=\"color: #00af00; text-decoration-color: #00af00\">14</span>, <span style=\"color: #00af00; text-decoration-color: #00af00\">64</span>)     │        <span style=\"color: #00af00; text-decoration-color: #00af00\">16,448</span> │\n",
       "├─────────────────────────────────┼────────────────────────┼───────────────┤\n",
       "│ max_pooling2d_13 (<span style=\"color: #0087ff; text-decoration-color: #0087ff\">MaxPooling2D</span>) │ (<span style=\"color: #00d7ff; text-decoration-color: #00d7ff\">None</span>, <span style=\"color: #00af00; text-decoration-color: #00af00\">7</span>, <span style=\"color: #00af00; text-decoration-color: #00af00\">7</span>, <span style=\"color: #00af00; text-decoration-color: #00af00\">64</span>)       │             <span style=\"color: #00af00; text-decoration-color: #00af00\">0</span> │\n",
       "├─────────────────────────────────┼────────────────────────┼───────────────┤\n",
       "│ conv2d_28 (<span style=\"color: #0087ff; text-decoration-color: #0087ff\">Conv2D</span>)              │ (<span style=\"color: #00d7ff; text-decoration-color: #00d7ff\">None</span>, <span style=\"color: #00af00; text-decoration-color: #00af00\">7</span>, <span style=\"color: #00af00; text-decoration-color: #00af00\">7</span>, <span style=\"color: #00af00; text-decoration-color: #00af00\">128</span>)      │        <span style=\"color: #00af00; text-decoration-color: #00af00\">32,896</span> │\n",
       "├─────────────────────────────────┼────────────────────────┼───────────────┤\n",
       "│ conv2d_29 (<span style=\"color: #0087ff; text-decoration-color: #0087ff\">Conv2D</span>)              │ (<span style=\"color: #00d7ff; text-decoration-color: #00d7ff\">None</span>, <span style=\"color: #00af00; text-decoration-color: #00af00\">6</span>, <span style=\"color: #00af00; text-decoration-color: #00af00\">6</span>, <span style=\"color: #00af00; text-decoration-color: #00af00\">128</span>)      │        <span style=\"color: #00af00; text-decoration-color: #00af00\">65,664</span> │\n",
       "├─────────────────────────────────┼────────────────────────┼───────────────┤\n",
       "│ max_pooling2d_14 (<span style=\"color: #0087ff; text-decoration-color: #0087ff\">MaxPooling2D</span>) │ (<span style=\"color: #00d7ff; text-decoration-color: #00d7ff\">None</span>, <span style=\"color: #00af00; text-decoration-color: #00af00\">3</span>, <span style=\"color: #00af00; text-decoration-color: #00af00\">3</span>, <span style=\"color: #00af00; text-decoration-color: #00af00\">128</span>)      │             <span style=\"color: #00af00; text-decoration-color: #00af00\">0</span> │\n",
       "├─────────────────────────────────┼────────────────────────┼───────────────┤\n",
       "│ conv2d_30 (<span style=\"color: #0087ff; text-decoration-color: #0087ff\">Conv2D</span>)              │ (<span style=\"color: #00d7ff; text-decoration-color: #00d7ff\">None</span>, <span style=\"color: #00af00; text-decoration-color: #00af00\">3</span>, <span style=\"color: #00af00; text-decoration-color: #00af00\">3</span>, <span style=\"color: #00af00; text-decoration-color: #00af00\">256</span>)      │       <span style=\"color: #00af00; text-decoration-color: #00af00\">131,328</span> │\n",
       "├─────────────────────────────────┼────────────────────────┼───────────────┤\n",
       "│ conv2d_31 (<span style=\"color: #0087ff; text-decoration-color: #0087ff\">Conv2D</span>)              │ (<span style=\"color: #00d7ff; text-decoration-color: #00d7ff\">None</span>, <span style=\"color: #00af00; text-decoration-color: #00af00\">2</span>, <span style=\"color: #00af00; text-decoration-color: #00af00\">2</span>, <span style=\"color: #00af00; text-decoration-color: #00af00\">256</span>)      │       <span style=\"color: #00af00; text-decoration-color: #00af00\">262,400</span> │\n",
       "├─────────────────────────────────┼────────────────────────┼───────────────┤\n",
       "│ max_pooling2d_15 (<span style=\"color: #0087ff; text-decoration-color: #0087ff\">MaxPooling2D</span>) │ (<span style=\"color: #00d7ff; text-decoration-color: #00d7ff\">None</span>, <span style=\"color: #00af00; text-decoration-color: #00af00\">1</span>, <span style=\"color: #00af00; text-decoration-color: #00af00\">1</span>, <span style=\"color: #00af00; text-decoration-color: #00af00\">256</span>)      │             <span style=\"color: #00af00; text-decoration-color: #00af00\">0</span> │\n",
       "├─────────────────────────────────┼────────────────────────┼───────────────┤\n",
       "│ dropout_3 (<span style=\"color: #0087ff; text-decoration-color: #0087ff\">Dropout</span>)             │ (<span style=\"color: #00d7ff; text-decoration-color: #00d7ff\">None</span>, <span style=\"color: #00af00; text-decoration-color: #00af00\">1</span>, <span style=\"color: #00af00; text-decoration-color: #00af00\">1</span>, <span style=\"color: #00af00; text-decoration-color: #00af00\">256</span>)      │             <span style=\"color: #00af00; text-decoration-color: #00af00\">0</span> │\n",
       "├─────────────────────────────────┼────────────────────────┼───────────────┤\n",
       "│ flatten_3 (<span style=\"color: #0087ff; text-decoration-color: #0087ff\">Flatten</span>)             │ (<span style=\"color: #00d7ff; text-decoration-color: #00d7ff\">None</span>, <span style=\"color: #00af00; text-decoration-color: #00af00\">256</span>)            │             <span style=\"color: #00af00; text-decoration-color: #00af00\">0</span> │\n",
       "├─────────────────────────────────┼────────────────────────┼───────────────┤\n",
       "│ dense_6 (<span style=\"color: #0087ff; text-decoration-color: #0087ff\">Dense</span>)                 │ (<span style=\"color: #00d7ff; text-decoration-color: #00d7ff\">None</span>, <span style=\"color: #00af00; text-decoration-color: #00af00\">1500</span>)           │       <span style=\"color: #00af00; text-decoration-color: #00af00\">385,500</span> │\n",
       "├─────────────────────────────────┼────────────────────────┼───────────────┤\n",
       "│ dense_7 (<span style=\"color: #0087ff; text-decoration-color: #0087ff\">Dense</span>)                 │ (<span style=\"color: #00d7ff; text-decoration-color: #00d7ff\">None</span>, <span style=\"color: #00af00; text-decoration-color: #00af00\">2</span>)              │         <span style=\"color: #00af00; text-decoration-color: #00af00\">3,002</span> │\n",
       "└─────────────────────────────────┴────────────────────────┴───────────────┘\n",
       "</pre>\n"
      ],
      "text/plain": [
       "┏━━━━━━━━━━━━━━━━━━━━━━━━━━━━━━━━━┳━━━━━━━━━━━━━━━━━━━━━━━━┳━━━━━━━━━━━━━━━┓\n",
       "┃\u001b[1m \u001b[0m\u001b[1mLayer (type)                   \u001b[0m\u001b[1m \u001b[0m┃\u001b[1m \u001b[0m\u001b[1mOutput Shape          \u001b[0m\u001b[1m \u001b[0m┃\u001b[1m \u001b[0m\u001b[1m      Param #\u001b[0m\u001b[1m \u001b[0m┃\n",
       "┡━━━━━━━━━━━━━━━━━━━━━━━━━━━━━━━━━╇━━━━━━━━━━━━━━━━━━━━━━━━╇━━━━━━━━━━━━━━━┩\n",
       "│ conv2d_24 (\u001b[38;5;33mConv2D\u001b[0m)              │ (\u001b[38;5;45mNone\u001b[0m, \u001b[38;5;34m32\u001b[0m, \u001b[38;5;34m32\u001b[0m, \u001b[38;5;34m32\u001b[0m)     │           \u001b[38;5;34m416\u001b[0m │\n",
       "├─────────────────────────────────┼────────────────────────┼───────────────┤\n",
       "│ conv2d_25 (\u001b[38;5;33mConv2D\u001b[0m)              │ (\u001b[38;5;45mNone\u001b[0m, \u001b[38;5;34m31\u001b[0m, \u001b[38;5;34m31\u001b[0m, \u001b[38;5;34m32\u001b[0m)     │         \u001b[38;5;34m4,128\u001b[0m │\n",
       "├─────────────────────────────────┼────────────────────────┼───────────────┤\n",
       "│ max_pooling2d_12 (\u001b[38;5;33mMaxPooling2D\u001b[0m) │ (\u001b[38;5;45mNone\u001b[0m, \u001b[38;5;34m15\u001b[0m, \u001b[38;5;34m15\u001b[0m, \u001b[38;5;34m32\u001b[0m)     │             \u001b[38;5;34m0\u001b[0m │\n",
       "├─────────────────────────────────┼────────────────────────┼───────────────┤\n",
       "│ conv2d_26 (\u001b[38;5;33mConv2D\u001b[0m)              │ (\u001b[38;5;45mNone\u001b[0m, \u001b[38;5;34m15\u001b[0m, \u001b[38;5;34m15\u001b[0m, \u001b[38;5;34m64\u001b[0m)     │         \u001b[38;5;34m8,256\u001b[0m │\n",
       "├─────────────────────────────────┼────────────────────────┼───────────────┤\n",
       "│ conv2d_27 (\u001b[38;5;33mConv2D\u001b[0m)              │ (\u001b[38;5;45mNone\u001b[0m, \u001b[38;5;34m14\u001b[0m, \u001b[38;5;34m14\u001b[0m, \u001b[38;5;34m64\u001b[0m)     │        \u001b[38;5;34m16,448\u001b[0m │\n",
       "├─────────────────────────────────┼────────────────────────┼───────────────┤\n",
       "│ max_pooling2d_13 (\u001b[38;5;33mMaxPooling2D\u001b[0m) │ (\u001b[38;5;45mNone\u001b[0m, \u001b[38;5;34m7\u001b[0m, \u001b[38;5;34m7\u001b[0m, \u001b[38;5;34m64\u001b[0m)       │             \u001b[38;5;34m0\u001b[0m │\n",
       "├─────────────────────────────────┼────────────────────────┼───────────────┤\n",
       "│ conv2d_28 (\u001b[38;5;33mConv2D\u001b[0m)              │ (\u001b[38;5;45mNone\u001b[0m, \u001b[38;5;34m7\u001b[0m, \u001b[38;5;34m7\u001b[0m, \u001b[38;5;34m128\u001b[0m)      │        \u001b[38;5;34m32,896\u001b[0m │\n",
       "├─────────────────────────────────┼────────────────────────┼───────────────┤\n",
       "│ conv2d_29 (\u001b[38;5;33mConv2D\u001b[0m)              │ (\u001b[38;5;45mNone\u001b[0m, \u001b[38;5;34m6\u001b[0m, \u001b[38;5;34m6\u001b[0m, \u001b[38;5;34m128\u001b[0m)      │        \u001b[38;5;34m65,664\u001b[0m │\n",
       "├─────────────────────────────────┼────────────────────────┼───────────────┤\n",
       "│ max_pooling2d_14 (\u001b[38;5;33mMaxPooling2D\u001b[0m) │ (\u001b[38;5;45mNone\u001b[0m, \u001b[38;5;34m3\u001b[0m, \u001b[38;5;34m3\u001b[0m, \u001b[38;5;34m128\u001b[0m)      │             \u001b[38;5;34m0\u001b[0m │\n",
       "├─────────────────────────────────┼────────────────────────┼───────────────┤\n",
       "│ conv2d_30 (\u001b[38;5;33mConv2D\u001b[0m)              │ (\u001b[38;5;45mNone\u001b[0m, \u001b[38;5;34m3\u001b[0m, \u001b[38;5;34m3\u001b[0m, \u001b[38;5;34m256\u001b[0m)      │       \u001b[38;5;34m131,328\u001b[0m │\n",
       "├─────────────────────────────────┼────────────────────────┼───────────────┤\n",
       "│ conv2d_31 (\u001b[38;5;33mConv2D\u001b[0m)              │ (\u001b[38;5;45mNone\u001b[0m, \u001b[38;5;34m2\u001b[0m, \u001b[38;5;34m2\u001b[0m, \u001b[38;5;34m256\u001b[0m)      │       \u001b[38;5;34m262,400\u001b[0m │\n",
       "├─────────────────────────────────┼────────────────────────┼───────────────┤\n",
       "│ max_pooling2d_15 (\u001b[38;5;33mMaxPooling2D\u001b[0m) │ (\u001b[38;5;45mNone\u001b[0m, \u001b[38;5;34m1\u001b[0m, \u001b[38;5;34m1\u001b[0m, \u001b[38;5;34m256\u001b[0m)      │             \u001b[38;5;34m0\u001b[0m │\n",
       "├─────────────────────────────────┼────────────────────────┼───────────────┤\n",
       "│ dropout_3 (\u001b[38;5;33mDropout\u001b[0m)             │ (\u001b[38;5;45mNone\u001b[0m, \u001b[38;5;34m1\u001b[0m, \u001b[38;5;34m1\u001b[0m, \u001b[38;5;34m256\u001b[0m)      │             \u001b[38;5;34m0\u001b[0m │\n",
       "├─────────────────────────────────┼────────────────────────┼───────────────┤\n",
       "│ flatten_3 (\u001b[38;5;33mFlatten\u001b[0m)             │ (\u001b[38;5;45mNone\u001b[0m, \u001b[38;5;34m256\u001b[0m)            │             \u001b[38;5;34m0\u001b[0m │\n",
       "├─────────────────────────────────┼────────────────────────┼───────────────┤\n",
       "│ dense_6 (\u001b[38;5;33mDense\u001b[0m)                 │ (\u001b[38;5;45mNone\u001b[0m, \u001b[38;5;34m1500\u001b[0m)           │       \u001b[38;5;34m385,500\u001b[0m │\n",
       "├─────────────────────────────────┼────────────────────────┼───────────────┤\n",
       "│ dense_7 (\u001b[38;5;33mDense\u001b[0m)                 │ (\u001b[38;5;45mNone\u001b[0m, \u001b[38;5;34m2\u001b[0m)              │         \u001b[38;5;34m3,002\u001b[0m │\n",
       "└─────────────────────────────────┴────────────────────────┴───────────────┘\n"
      ]
     },
     "metadata": {},
     "output_type": "display_data"
    },
    {
     "data": {
      "text/html": [
       "<pre style=\"white-space:pre;overflow-x:auto;line-height:normal;font-family:Menlo,'DejaVu Sans Mono',consolas,'Courier New',monospace\"><span style=\"font-weight: bold\"> Total params: </span><span style=\"color: #00af00; text-decoration-color: #00af00\">910,038</span> (3.47 MB)\n",
       "</pre>\n"
      ],
      "text/plain": [
       "\u001b[1m Total params: \u001b[0m\u001b[38;5;34m910,038\u001b[0m (3.47 MB)\n"
      ]
     },
     "metadata": {},
     "output_type": "display_data"
    },
    {
     "data": {
      "text/html": [
       "<pre style=\"white-space:pre;overflow-x:auto;line-height:normal;font-family:Menlo,'DejaVu Sans Mono',consolas,'Courier New',monospace\"><span style=\"font-weight: bold\"> Trainable params: </span><span style=\"color: #00af00; text-decoration-color: #00af00\">910,038</span> (3.47 MB)\n",
       "</pre>\n"
      ],
      "text/plain": [
       "\u001b[1m Trainable params: \u001b[0m\u001b[38;5;34m910,038\u001b[0m (3.47 MB)\n"
      ]
     },
     "metadata": {},
     "output_type": "display_data"
    },
    {
     "data": {
      "text/html": [
       "<pre style=\"white-space:pre;overflow-x:auto;line-height:normal;font-family:Menlo,'DejaVu Sans Mono',consolas,'Courier New',monospace\"><span style=\"font-weight: bold\"> Non-trainable params: </span><span style=\"color: #00af00; text-decoration-color: #00af00\">0</span> (0.00 B)\n",
       "</pre>\n"
      ],
      "text/plain": [
       "\u001b[1m Non-trainable params: \u001b[0m\u001b[38;5;34m0\u001b[0m (0.00 B)\n"
      ]
     },
     "metadata": {},
     "output_type": "display_data"
    },
    {
     "name": "stdout",
     "output_type": "stream",
     "text": [
      "Epoch 1/20\n",
      "\u001b[1m3125/3125\u001b[0m \u001b[32m━━━━━━━━━━━━━━━━━━━━\u001b[0m\u001b[37m\u001b[0m \u001b[1m190s\u001b[0m 60ms/step - accuracy: 0.9067 - loss: 0.2204 - val_accuracy: 0.6587 - val_loss: 1.5738\n",
      "Epoch 2/20\n",
      "\u001b[1m3125/3125\u001b[0m \u001b[32m━━━━━━━━━━━━━━━━━━━━\u001b[0m\u001b[37m\u001b[0m \u001b[1m193s\u001b[0m 62ms/step - accuracy: 0.9735 - loss: 0.0738 - val_accuracy: 0.7079 - val_loss: 1.2712\n",
      "Epoch 3/20\n",
      "\u001b[1m3125/3125\u001b[0m \u001b[32m━━━━━━━━━━━━━━━━━━━━\u001b[0m\u001b[37m\u001b[0m \u001b[1m194s\u001b[0m 62ms/step - accuracy: 0.9846 - loss: 0.0457 - val_accuracy: 0.6124 - val_loss: 4.3409\n",
      "Epoch 4/20\n",
      "\u001b[1m3125/3125\u001b[0m \u001b[32m━━━━━━━━━━━━━━━━━━━━\u001b[0m\u001b[37m\u001b[0m \u001b[1m195s\u001b[0m 62ms/step - accuracy: 0.9895 - loss: 0.0326 - val_accuracy: 0.6099 - val_loss: 4.3693\n",
      "Epoch 5/20\n",
      "\u001b[1m3125/3125\u001b[0m \u001b[32m━━━━━━━━━━━━━━━━━━━━\u001b[0m\u001b[37m\u001b[0m \u001b[1m203s\u001b[0m 63ms/step - accuracy: 0.9921 - loss: 0.0253 - val_accuracy: 0.6030 - val_loss: 4.4697\n",
      "Epoch 6/20\n",
      "\u001b[1m3125/3125\u001b[0m \u001b[32m━━━━━━━━━━━━━━━━━━━━\u001b[0m\u001b[37m\u001b[0m \u001b[1m201s\u001b[0m 63ms/step - accuracy: 0.9951 - loss: 0.0176 - val_accuracy: 0.6494 - val_loss: 4.0572\n",
      "Epoch 7/20\n",
      "\u001b[1m3125/3125\u001b[0m \u001b[32m━━━━━━━━━━━━━━━━━━━━\u001b[0m\u001b[37m\u001b[0m \u001b[1m197s\u001b[0m 63ms/step - accuracy: 0.9955 - loss: 0.0145 - val_accuracy: 0.6246 - val_loss: 4.3094\n"
     ]
    },
    {
     "data": {
      "text/plain": [
       "<keras.src.callbacks.history.History at 0x7f5383391780>"
      ]
     },
     "execution_count": 75,
     "metadata": {},
     "output_type": "execute_result"
    }
   ],
   "source": [
    "import tensorflow as tf\n",
    "from tensorflow.keras import layers, models\n",
    "\n",
    "# Define the model\n",
    "model = models.Sequential()\n",
    "\n",
    "# First convolution block\n",
    "model.add(layers.Conv2D(filters=32, kernel_size=2, padding=\"same\", activation=\"relu\", input_shape=[32, 32, 3]))\n",
    "model.add(layers.Conv2D(filters=32, kernel_size=2, activation=\"relu\"))\n",
    "model.add(layers.MaxPool2D(pool_size=2, strides=2))\n",
    "\n",
    "# Second convolution block\n",
    "model.add(layers.Conv2D(filters=64, kernel_size=2, padding=\"same\", activation=\"relu\"))\n",
    "model.add(layers.Conv2D(filters=64, kernel_size=2, activation=\"relu\"))\n",
    "model.add(layers.MaxPool2D(pool_size=2, strides=2))\n",
    "\n",
    "# Third convolution block\n",
    "model.add(layers.Conv2D(filters=128, kernel_size=2, padding=\"same\", activation=\"relu\"))\n",
    "model.add(layers.Conv2D(filters=128, kernel_size=2, activation=\"relu\"))\n",
    "model.add(layers.MaxPool2D(pool_size=2, strides=2))\n",
    "\n",
    "# Fourth convolution block\n",
    "model.add(layers.Conv2D(filters=256, kernel_size=2, padding=\"same\", activation=\"relu\"))\n",
    "model.add(layers.Conv2D(filters=256, kernel_size=2, activation=\"relu\"))\n",
    "model.add(layers.MaxPool2D(pool_size=2, strides=2))\n",
    "\n",
    "# # # Fifth convolution block\n",
    "# model.add(layers.Conv2D(filters=512, kernel_size=2, padding=\"same\", activation=\"relu\"))\n",
    "# model.add(layers.Conv2D(filters=512, kernel_size=2, activation=\"relu\"))\n",
    "# model.add(layers.MaxPool2D(pool_size=2, strides=2))\n",
    "\n",
    "# Dropout layer\n",
    "model.add(layers.Dropout(0.25))\n",
    "\n",
    "# Flatten the 3D tensor to 1D for Dense layer\n",
    "model.add(layers.Flatten())\n",
    "\n",
    "# Fully connected layer\n",
    "model.add(layers.Dense(units=1500, activation='relu'))  # Hidden layer with ReLU\n",
    "\n",
    "# Dropout layer\n",
    "#model.add(layers.Dropout(0.3))\n",
    "\n",
    "# Output layer\n",
    "model.add(layers.Dense(units=2, activation='sigmoid'))  # Output layer for binary classification\n",
    "\n",
    "# Compile the model\n",
    "model.compile(\n",
    "    optimizer=tf.keras.optimizers.Adam(learning_rate=0.0001),  # Adam optimizer with small learning rate\n",
    "    loss='binary_crossentropy'\n",
    "    metrics=['accuracy']  # Track accuracy during training\n",
    ")\n",
    "\n",
    "# Print model summary to see the architecture\n",
    "model.summary()\n",
    "\n",
    "from tensorflow.keras.callbacks import EarlyStopping\n",
    "\n",
    "early_stopping = EarlyStopping(monitor='val_loss', patience=5, restore_best_weights=True)\n",
    "# Fit the model to the training data (X_train, y_train)\n",
    "#model.fit(X_train, y_train,batch_size=32, epochs=20)\n",
    "model.fit(\n",
    "    X_train, y_train,\n",
    "    batch_size=32,\n",
    "    epochs=20,\n",
    "    validation_data=(X_test, y_test),  # Ensure you have a validation set\n",
    "    callbacks=[early_stopping]  # Add early stopping callback\n",
    ")"
   ]
  },
  {
   "cell_type": "code",
   "execution_count": 66,
   "id": "65f57eb2",
   "metadata": {},
   "outputs": [
    {
     "name": "stderr",
     "output_type": "stream",
     "text": [
      "/home/cfd2/anaconda3/lib/python3.10/site-packages/keras/src/layers/convolutional/base_conv.py:107: UserWarning: Do not pass an `input_shape`/`input_dim` argument to a layer. When using Sequential models, prefer using an `Input(shape)` object as the first layer in the model instead.\n",
      "  super().__init__(activity_regularizer=activity_regularizer, **kwargs)\n"
     ]
    },
    {
     "data": {
      "text/html": [
       "<pre style=\"white-space:pre;overflow-x:auto;line-height:normal;font-family:Menlo,'DejaVu Sans Mono',consolas,'Courier New',monospace\"><span style=\"font-weight: bold\">Model: \"sequential_2\"</span>\n",
       "</pre>\n"
      ],
      "text/plain": [
       "\u001b[1mModel: \"sequential_2\"\u001b[0m\n"
      ]
     },
     "metadata": {},
     "output_type": "display_data"
    },
    {
     "data": {
      "text/html": [
       "<pre style=\"white-space:pre;overflow-x:auto;line-height:normal;font-family:Menlo,'DejaVu Sans Mono',consolas,'Courier New',monospace\">┏━━━━━━━━━━━━━━━━━━━━━━━━━━━━━━━━━┳━━━━━━━━━━━━━━━━━━━━━━━━┳━━━━━━━━━━━━━━━┓\n",
       "┃<span style=\"font-weight: bold\"> Layer (type)                    </span>┃<span style=\"font-weight: bold\"> Output Shape           </span>┃<span style=\"font-weight: bold\">       Param # </span>┃\n",
       "┡━━━━━━━━━━━━━━━━━━━━━━━━━━━━━━━━━╇━━━━━━━━━━━━━━━━━━━━━━━━╇━━━━━━━━━━━━━━━┩\n",
       "│ conv2d_16 (<span style=\"color: #0087ff; text-decoration-color: #0087ff\">Conv2D</span>)              │ (<span style=\"color: #00d7ff; text-decoration-color: #00d7ff\">None</span>, <span style=\"color: #00af00; text-decoration-color: #00af00\">32</span>, <span style=\"color: #00af00; text-decoration-color: #00af00\">32</span>, <span style=\"color: #00af00; text-decoration-color: #00af00\">20</span>)     │           <span style=\"color: #00af00; text-decoration-color: #00af00\">260</span> │\n",
       "├─────────────────────────────────┼────────────────────────┼───────────────┤\n",
       "│ conv2d_17 (<span style=\"color: #0087ff; text-decoration-color: #0087ff\">Conv2D</span>)              │ (<span style=\"color: #00d7ff; text-decoration-color: #00d7ff\">None</span>, <span style=\"color: #00af00; text-decoration-color: #00af00\">31</span>, <span style=\"color: #00af00; text-decoration-color: #00af00\">31</span>, <span style=\"color: #00af00; text-decoration-color: #00af00\">20</span>)     │         <span style=\"color: #00af00; text-decoration-color: #00af00\">1,620</span> │\n",
       "├─────────────────────────────────┼────────────────────────┼───────────────┤\n",
       "│ max_pooling2d_8 (<span style=\"color: #0087ff; text-decoration-color: #0087ff\">MaxPooling2D</span>)  │ (<span style=\"color: #00d7ff; text-decoration-color: #00d7ff\">None</span>, <span style=\"color: #00af00; text-decoration-color: #00af00\">15</span>, <span style=\"color: #00af00; text-decoration-color: #00af00\">15</span>, <span style=\"color: #00af00; text-decoration-color: #00af00\">20</span>)     │             <span style=\"color: #00af00; text-decoration-color: #00af00\">0</span> │\n",
       "├─────────────────────────────────┼────────────────────────┼───────────────┤\n",
       "│ conv2d_18 (<span style=\"color: #0087ff; text-decoration-color: #0087ff\">Conv2D</span>)              │ (<span style=\"color: #00d7ff; text-decoration-color: #00d7ff\">None</span>, <span style=\"color: #00af00; text-decoration-color: #00af00\">15</span>, <span style=\"color: #00af00; text-decoration-color: #00af00\">15</span>, <span style=\"color: #00af00; text-decoration-color: #00af00\">40</span>)     │         <span style=\"color: #00af00; text-decoration-color: #00af00\">3,240</span> │\n",
       "├─────────────────────────────────┼────────────────────────┼───────────────┤\n",
       "│ conv2d_19 (<span style=\"color: #0087ff; text-decoration-color: #0087ff\">Conv2D</span>)              │ (<span style=\"color: #00d7ff; text-decoration-color: #00d7ff\">None</span>, <span style=\"color: #00af00; text-decoration-color: #00af00\">14</span>, <span style=\"color: #00af00; text-decoration-color: #00af00\">14</span>, <span style=\"color: #00af00; text-decoration-color: #00af00\">40</span>)     │         <span style=\"color: #00af00; text-decoration-color: #00af00\">6,440</span> │\n",
       "├─────────────────────────────────┼────────────────────────┼───────────────┤\n",
       "│ max_pooling2d_9 (<span style=\"color: #0087ff; text-decoration-color: #0087ff\">MaxPooling2D</span>)  │ (<span style=\"color: #00d7ff; text-decoration-color: #00d7ff\">None</span>, <span style=\"color: #00af00; text-decoration-color: #00af00\">7</span>, <span style=\"color: #00af00; text-decoration-color: #00af00\">7</span>, <span style=\"color: #00af00; text-decoration-color: #00af00\">40</span>)       │             <span style=\"color: #00af00; text-decoration-color: #00af00\">0</span> │\n",
       "├─────────────────────────────────┼────────────────────────┼───────────────┤\n",
       "│ conv2d_20 (<span style=\"color: #0087ff; text-decoration-color: #0087ff\">Conv2D</span>)              │ (<span style=\"color: #00d7ff; text-decoration-color: #00d7ff\">None</span>, <span style=\"color: #00af00; text-decoration-color: #00af00\">7</span>, <span style=\"color: #00af00; text-decoration-color: #00af00\">7</span>, <span style=\"color: #00af00; text-decoration-color: #00af00\">80</span>)       │        <span style=\"color: #00af00; text-decoration-color: #00af00\">12,880</span> │\n",
       "├─────────────────────────────────┼────────────────────────┼───────────────┤\n",
       "│ conv2d_21 (<span style=\"color: #0087ff; text-decoration-color: #0087ff\">Conv2D</span>)              │ (<span style=\"color: #00d7ff; text-decoration-color: #00d7ff\">None</span>, <span style=\"color: #00af00; text-decoration-color: #00af00\">6</span>, <span style=\"color: #00af00; text-decoration-color: #00af00\">6</span>, <span style=\"color: #00af00; text-decoration-color: #00af00\">80</span>)       │        <span style=\"color: #00af00; text-decoration-color: #00af00\">25,680</span> │\n",
       "├─────────────────────────────────┼────────────────────────┼───────────────┤\n",
       "│ max_pooling2d_10 (<span style=\"color: #0087ff; text-decoration-color: #0087ff\">MaxPooling2D</span>) │ (<span style=\"color: #00d7ff; text-decoration-color: #00d7ff\">None</span>, <span style=\"color: #00af00; text-decoration-color: #00af00\">3</span>, <span style=\"color: #00af00; text-decoration-color: #00af00\">3</span>, <span style=\"color: #00af00; text-decoration-color: #00af00\">80</span>)       │             <span style=\"color: #00af00; text-decoration-color: #00af00\">0</span> │\n",
       "├─────────────────────────────────┼────────────────────────┼───────────────┤\n",
       "│ conv2d_22 (<span style=\"color: #0087ff; text-decoration-color: #0087ff\">Conv2D</span>)              │ (<span style=\"color: #00d7ff; text-decoration-color: #00d7ff\">None</span>, <span style=\"color: #00af00; text-decoration-color: #00af00\">3</span>, <span style=\"color: #00af00; text-decoration-color: #00af00\">3</span>, <span style=\"color: #00af00; text-decoration-color: #00af00\">256</span>)      │        <span style=\"color: #00af00; text-decoration-color: #00af00\">82,176</span> │\n",
       "├─────────────────────────────────┼────────────────────────┼───────────────┤\n",
       "│ conv2d_23 (<span style=\"color: #0087ff; text-decoration-color: #0087ff\">Conv2D</span>)              │ (<span style=\"color: #00d7ff; text-decoration-color: #00d7ff\">None</span>, <span style=\"color: #00af00; text-decoration-color: #00af00\">2</span>, <span style=\"color: #00af00; text-decoration-color: #00af00\">2</span>, <span style=\"color: #00af00; text-decoration-color: #00af00\">256</span>)      │       <span style=\"color: #00af00; text-decoration-color: #00af00\">262,400</span> │\n",
       "├─────────────────────────────────┼────────────────────────┼───────────────┤\n",
       "│ max_pooling2d_11 (<span style=\"color: #0087ff; text-decoration-color: #0087ff\">MaxPooling2D</span>) │ (<span style=\"color: #00d7ff; text-decoration-color: #00d7ff\">None</span>, <span style=\"color: #00af00; text-decoration-color: #00af00\">1</span>, <span style=\"color: #00af00; text-decoration-color: #00af00\">1</span>, <span style=\"color: #00af00; text-decoration-color: #00af00\">256</span>)      │             <span style=\"color: #00af00; text-decoration-color: #00af00\">0</span> │\n",
       "├─────────────────────────────────┼────────────────────────┼───────────────┤\n",
       "│ dropout_2 (<span style=\"color: #0087ff; text-decoration-color: #0087ff\">Dropout</span>)             │ (<span style=\"color: #00d7ff; text-decoration-color: #00d7ff\">None</span>, <span style=\"color: #00af00; text-decoration-color: #00af00\">1</span>, <span style=\"color: #00af00; text-decoration-color: #00af00\">1</span>, <span style=\"color: #00af00; text-decoration-color: #00af00\">256</span>)      │             <span style=\"color: #00af00; text-decoration-color: #00af00\">0</span> │\n",
       "├─────────────────────────────────┼────────────────────────┼───────────────┤\n",
       "│ flatten_2 (<span style=\"color: #0087ff; text-decoration-color: #0087ff\">Flatten</span>)             │ (<span style=\"color: #00d7ff; text-decoration-color: #00d7ff\">None</span>, <span style=\"color: #00af00; text-decoration-color: #00af00\">256</span>)            │             <span style=\"color: #00af00; text-decoration-color: #00af00\">0</span> │\n",
       "├─────────────────────────────────┼────────────────────────┼───────────────┤\n",
       "│ dense_4 (<span style=\"color: #0087ff; text-decoration-color: #0087ff\">Dense</span>)                 │ (<span style=\"color: #00d7ff; text-decoration-color: #00d7ff\">None</span>, <span style=\"color: #00af00; text-decoration-color: #00af00\">1500</span>)           │       <span style=\"color: #00af00; text-decoration-color: #00af00\">385,500</span> │\n",
       "├─────────────────────────────────┼────────────────────────┼───────────────┤\n",
       "│ dense_5 (<span style=\"color: #0087ff; text-decoration-color: #0087ff\">Dense</span>)                 │ (<span style=\"color: #00d7ff; text-decoration-color: #00d7ff\">None</span>, <span style=\"color: #00af00; text-decoration-color: #00af00\">2</span>)              │         <span style=\"color: #00af00; text-decoration-color: #00af00\">3,002</span> │\n",
       "└─────────────────────────────────┴────────────────────────┴───────────────┘\n",
       "</pre>\n"
      ],
      "text/plain": [
       "┏━━━━━━━━━━━━━━━━━━━━━━━━━━━━━━━━━┳━━━━━━━━━━━━━━━━━━━━━━━━┳━━━━━━━━━━━━━━━┓\n",
       "┃\u001b[1m \u001b[0m\u001b[1mLayer (type)                   \u001b[0m\u001b[1m \u001b[0m┃\u001b[1m \u001b[0m\u001b[1mOutput Shape          \u001b[0m\u001b[1m \u001b[0m┃\u001b[1m \u001b[0m\u001b[1m      Param #\u001b[0m\u001b[1m \u001b[0m┃\n",
       "┡━━━━━━━━━━━━━━━━━━━━━━━━━━━━━━━━━╇━━━━━━━━━━━━━━━━━━━━━━━━╇━━━━━━━━━━━━━━━┩\n",
       "│ conv2d_16 (\u001b[38;5;33mConv2D\u001b[0m)              │ (\u001b[38;5;45mNone\u001b[0m, \u001b[38;5;34m32\u001b[0m, \u001b[38;5;34m32\u001b[0m, \u001b[38;5;34m20\u001b[0m)     │           \u001b[38;5;34m260\u001b[0m │\n",
       "├─────────────────────────────────┼────────────────────────┼───────────────┤\n",
       "│ conv2d_17 (\u001b[38;5;33mConv2D\u001b[0m)              │ (\u001b[38;5;45mNone\u001b[0m, \u001b[38;5;34m31\u001b[0m, \u001b[38;5;34m31\u001b[0m, \u001b[38;5;34m20\u001b[0m)     │         \u001b[38;5;34m1,620\u001b[0m │\n",
       "├─────────────────────────────────┼────────────────────────┼───────────────┤\n",
       "│ max_pooling2d_8 (\u001b[38;5;33mMaxPooling2D\u001b[0m)  │ (\u001b[38;5;45mNone\u001b[0m, \u001b[38;5;34m15\u001b[0m, \u001b[38;5;34m15\u001b[0m, \u001b[38;5;34m20\u001b[0m)     │             \u001b[38;5;34m0\u001b[0m │\n",
       "├─────────────────────────────────┼────────────────────────┼───────────────┤\n",
       "│ conv2d_18 (\u001b[38;5;33mConv2D\u001b[0m)              │ (\u001b[38;5;45mNone\u001b[0m, \u001b[38;5;34m15\u001b[0m, \u001b[38;5;34m15\u001b[0m, \u001b[38;5;34m40\u001b[0m)     │         \u001b[38;5;34m3,240\u001b[0m │\n",
       "├─────────────────────────────────┼────────────────────────┼───────────────┤\n",
       "│ conv2d_19 (\u001b[38;5;33mConv2D\u001b[0m)              │ (\u001b[38;5;45mNone\u001b[0m, \u001b[38;5;34m14\u001b[0m, \u001b[38;5;34m14\u001b[0m, \u001b[38;5;34m40\u001b[0m)     │         \u001b[38;5;34m6,440\u001b[0m │\n",
       "├─────────────────────────────────┼────────────────────────┼───────────────┤\n",
       "│ max_pooling2d_9 (\u001b[38;5;33mMaxPooling2D\u001b[0m)  │ (\u001b[38;5;45mNone\u001b[0m, \u001b[38;5;34m7\u001b[0m, \u001b[38;5;34m7\u001b[0m, \u001b[38;5;34m40\u001b[0m)       │             \u001b[38;5;34m0\u001b[0m │\n",
       "├─────────────────────────────────┼────────────────────────┼───────────────┤\n",
       "│ conv2d_20 (\u001b[38;5;33mConv2D\u001b[0m)              │ (\u001b[38;5;45mNone\u001b[0m, \u001b[38;5;34m7\u001b[0m, \u001b[38;5;34m7\u001b[0m, \u001b[38;5;34m80\u001b[0m)       │        \u001b[38;5;34m12,880\u001b[0m │\n",
       "├─────────────────────────────────┼────────────────────────┼───────────────┤\n",
       "│ conv2d_21 (\u001b[38;5;33mConv2D\u001b[0m)              │ (\u001b[38;5;45mNone\u001b[0m, \u001b[38;5;34m6\u001b[0m, \u001b[38;5;34m6\u001b[0m, \u001b[38;5;34m80\u001b[0m)       │        \u001b[38;5;34m25,680\u001b[0m │\n",
       "├─────────────────────────────────┼────────────────────────┼───────────────┤\n",
       "│ max_pooling2d_10 (\u001b[38;5;33mMaxPooling2D\u001b[0m) │ (\u001b[38;5;45mNone\u001b[0m, \u001b[38;5;34m3\u001b[0m, \u001b[38;5;34m3\u001b[0m, \u001b[38;5;34m80\u001b[0m)       │             \u001b[38;5;34m0\u001b[0m │\n",
       "├─────────────────────────────────┼────────────────────────┼───────────────┤\n",
       "│ conv2d_22 (\u001b[38;5;33mConv2D\u001b[0m)              │ (\u001b[38;5;45mNone\u001b[0m, \u001b[38;5;34m3\u001b[0m, \u001b[38;5;34m3\u001b[0m, \u001b[38;5;34m256\u001b[0m)      │        \u001b[38;5;34m82,176\u001b[0m │\n",
       "├─────────────────────────────────┼────────────────────────┼───────────────┤\n",
       "│ conv2d_23 (\u001b[38;5;33mConv2D\u001b[0m)              │ (\u001b[38;5;45mNone\u001b[0m, \u001b[38;5;34m2\u001b[0m, \u001b[38;5;34m2\u001b[0m, \u001b[38;5;34m256\u001b[0m)      │       \u001b[38;5;34m262,400\u001b[0m │\n",
       "├─────────────────────────────────┼────────────────────────┼───────────────┤\n",
       "│ max_pooling2d_11 (\u001b[38;5;33mMaxPooling2D\u001b[0m) │ (\u001b[38;5;45mNone\u001b[0m, \u001b[38;5;34m1\u001b[0m, \u001b[38;5;34m1\u001b[0m, \u001b[38;5;34m256\u001b[0m)      │             \u001b[38;5;34m0\u001b[0m │\n",
       "├─────────────────────────────────┼────────────────────────┼───────────────┤\n",
       "│ dropout_2 (\u001b[38;5;33mDropout\u001b[0m)             │ (\u001b[38;5;45mNone\u001b[0m, \u001b[38;5;34m1\u001b[0m, \u001b[38;5;34m1\u001b[0m, \u001b[38;5;34m256\u001b[0m)      │             \u001b[38;5;34m0\u001b[0m │\n",
       "├─────────────────────────────────┼────────────────────────┼───────────────┤\n",
       "│ flatten_2 (\u001b[38;5;33mFlatten\u001b[0m)             │ (\u001b[38;5;45mNone\u001b[0m, \u001b[38;5;34m256\u001b[0m)            │             \u001b[38;5;34m0\u001b[0m │\n",
       "├─────────────────────────────────┼────────────────────────┼───────────────┤\n",
       "│ dense_4 (\u001b[38;5;33mDense\u001b[0m)                 │ (\u001b[38;5;45mNone\u001b[0m, \u001b[38;5;34m1500\u001b[0m)           │       \u001b[38;5;34m385,500\u001b[0m │\n",
       "├─────────────────────────────────┼────────────────────────┼───────────────┤\n",
       "│ dense_5 (\u001b[38;5;33mDense\u001b[0m)                 │ (\u001b[38;5;45mNone\u001b[0m, \u001b[38;5;34m2\u001b[0m)              │         \u001b[38;5;34m3,002\u001b[0m │\n",
       "└─────────────────────────────────┴────────────────────────┴───────────────┘\n"
      ]
     },
     "metadata": {},
     "output_type": "display_data"
    },
    {
     "data": {
      "text/html": [
       "<pre style=\"white-space:pre;overflow-x:auto;line-height:normal;font-family:Menlo,'DejaVu Sans Mono',consolas,'Courier New',monospace\"><span style=\"font-weight: bold\"> Total params: </span><span style=\"color: #00af00; text-decoration-color: #00af00\">783,198</span> (2.99 MB)\n",
       "</pre>\n"
      ],
      "text/plain": [
       "\u001b[1m Total params: \u001b[0m\u001b[38;5;34m783,198\u001b[0m (2.99 MB)\n"
      ]
     },
     "metadata": {},
     "output_type": "display_data"
    },
    {
     "data": {
      "text/html": [
       "<pre style=\"white-space:pre;overflow-x:auto;line-height:normal;font-family:Menlo,'DejaVu Sans Mono',consolas,'Courier New',monospace\"><span style=\"font-weight: bold\"> Trainable params: </span><span style=\"color: #00af00; text-decoration-color: #00af00\">783,198</span> (2.99 MB)\n",
       "</pre>\n"
      ],
      "text/plain": [
       "\u001b[1m Trainable params: \u001b[0m\u001b[38;5;34m783,198\u001b[0m (2.99 MB)\n"
      ]
     },
     "metadata": {},
     "output_type": "display_data"
    },
    {
     "data": {
      "text/html": [
       "<pre style=\"white-space:pre;overflow-x:auto;line-height:normal;font-family:Menlo,'DejaVu Sans Mono',consolas,'Courier New',monospace\"><span style=\"font-weight: bold\"> Non-trainable params: </span><span style=\"color: #00af00; text-decoration-color: #00af00\">0</span> (0.00 B)\n",
       "</pre>\n"
      ],
      "text/plain": [
       "\u001b[1m Non-trainable params: \u001b[0m\u001b[38;5;34m0\u001b[0m (0.00 B)\n"
      ]
     },
     "metadata": {},
     "output_type": "display_data"
    },
    {
     "name": "stdout",
     "output_type": "stream",
     "text": [
      "Epoch 1/20\n",
      "\u001b[1m3125/3125\u001b[0m \u001b[32m━━━━━━━━━━━━━━━━━━━━\u001b[0m\u001b[37m\u001b[0m \u001b[1m127s\u001b[0m 40ms/step - accuracy: 0.9124 - loss: 0.2211 - val_accuracy: 0.6553 - val_loss: 1.7123\n",
      "Epoch 2/20\n",
      "\u001b[1m3125/3125\u001b[0m \u001b[32m━━━━━━━━━━━━━━━━━━━━\u001b[0m\u001b[37m\u001b[0m \u001b[1m128s\u001b[0m 41ms/step - accuracy: 0.9728 - loss: 0.0766 - val_accuracy: 0.6150 - val_loss: 2.6340\n",
      "Epoch 3/20\n",
      "\u001b[1m3125/3125\u001b[0m \u001b[32m━━━━━━━━━━━━━━━━━━━━\u001b[0m\u001b[37m\u001b[0m \u001b[1m129s\u001b[0m 41ms/step - accuracy: 0.9826 - loss: 0.0498 - val_accuracy: 0.6479 - val_loss: 2.8075\n",
      "Epoch 4/20\n",
      "\u001b[1m3125/3125\u001b[0m \u001b[32m━━━━━━━━━━━━━━━━━━━━\u001b[0m\u001b[37m\u001b[0m \u001b[1m137s\u001b[0m 40ms/step - accuracy: 0.9884 - loss: 0.0346 - val_accuracy: 0.6303 - val_loss: 3.9493\n",
      "Epoch 5/20\n",
      "\u001b[1m3125/3125\u001b[0m \u001b[32m━━━━━━━━━━━━━━━━━━━━\u001b[0m\u001b[37m\u001b[0m \u001b[1m149s\u001b[0m 42ms/step - accuracy: 0.9917 - loss: 0.0262 - val_accuracy: 0.6137 - val_loss: 4.3647\n",
      "Epoch 6/20\n",
      "\u001b[1m3125/3125\u001b[0m \u001b[32m━━━━━━━━━━━━━━━━━━━━\u001b[0m\u001b[37m\u001b[0m \u001b[1m142s\u001b[0m 42ms/step - accuracy: 0.9935 - loss: 0.0215 - val_accuracy: 0.6065 - val_loss: 6.0243\n"
     ]
    },
    {
     "data": {
      "text/plain": [
       "<keras.src.callbacks.history.History at 0x7f52e9419210>"
      ]
     },
     "execution_count": 66,
     "metadata": {},
     "output_type": "execute_result"
    }
   ],
   "source": [
    "import tensorflow as tf\n",
    "from tensorflow.keras import layers, models\n",
    "from tensorflow.keras.callbacks import EarlyStopping\n",
    "\n",
    "# Define the model\n",
    "model = models.Sequential()\n",
    "\n",
    "# First convolution block\n",
    "model.add(layers.Conv2D(filters=20, kernel_size=2, padding=\"same\", activation=\"relu\", input_shape=[32, 32, 3]))\n",
    "model.add(layers.Conv2D(filters=20, kernel_size=2, activation=\"relu\"))\n",
    "model.add(layers.MaxPool2D(pool_size=2, strides=2))\n",
    "\n",
    "# Second convolution block\n",
    "model.add(layers.Conv2D(filters=40, kernel_size=2, padding=\"same\", activation=\"relu\"))\n",
    "model.add(layers.Conv2D(filters=40, kernel_size=2, activation=\"relu\"))\n",
    "model.add(layers.MaxPool2D(pool_size=2, strides=2))\n",
    "\n",
    "# Third convolution block\n",
    "model.add(layers.Conv2D(filters=80, kernel_size=2, padding=\"same\", activation=\"relu\"))\n",
    "model.add(layers.Conv2D(filters=80, kernel_size=2, activation=\"relu\"))\n",
    "model.add(layers.MaxPool2D(pool_size=2, strides=2))\n",
    "\n",
    "# Fourth convolution block\n",
    "model.add(layers.Conv2D(filters=256, kernel_size=2, padding=\"same\", activation=\"relu\"))\n",
    "model.add(layers.Conv2D(filters=256, kernel_size=2, activation=\"relu\"))\n",
    "model.add(layers.MaxPool2D(pool_size=2, strides=2))\n",
    "\n",
    "# Dropout layer\n",
    "model.add(layers.Dropout(0.25))\n",
    "\n",
    "# Flatten the 3D tensor to 1D for Dense layer\n",
    "model.add(layers.Flatten())\n",
    "\n",
    "# Fully connected layer\n",
    "model.add(layers.Dense(units=1500, activation='relu'))  # Hidden layer with ReLU\n",
    "\n",
    "# Output layer\n",
    "model.add(layers.Dense(units=2, activation='softmax'))  # Output layer for binary classification\n",
    "\n",
    "# Compile the model\n",
    "model.compile(\n",
    "    optimizer=tf.keras.optimizers.Adam(learning_rate=0.0001),  # Adam optimizer with small learning rate\n",
    "    loss='sparse_categorical_crossentropy',  # Suitable for multi-class classification\n",
    "    metrics=['accuracy']  # Track accuracy during training\n",
    ")\n",
    "\n",
    "# Print model summary to see the architecture\n",
    "model.summary()\n",
    "\n",
    "# Early stopping callback\n",
    "early_stopping = EarlyStopping(monitor='val_loss', patience=5, restore_best_weights=True)\n",
    "\n",
    "# Fit the model to the training data (X_train, y_train)\n",
    "model.fit(\n",
    "    X_train, y_train,\n",
    "    batch_size=32,\n",
    "    epochs=20,\n",
    "    validation_data=(X_test, y_test),  # Ensure you have a validation set\n",
    "    callbacks=[early_stopping]  # Add early stopping callback\n",
    ")\n"
   ]
  },
  {
   "cell_type": "markdown",
   "id": "1cc2697a",
   "metadata": {},
   "source": [
    "model.compile(\n",
    "    tf.keras.optimizer = 'adam', learning_rate=0.0001\n",
    "    loss= 'binary_crossentropy',\n",
    "    metrics = ['accuracy'])"
   ]
  },
  {
   "cell_type": "code",
   "execution_count": 76,
   "id": "eda4dce4-2623-4d6b-98ce-cfaa60404053",
   "metadata": {},
   "outputs": [
    {
     "name": "stdout",
     "output_type": "stream",
     "text": [
      "\u001b[1m625/625\u001b[0m \u001b[32m━━━━━━━━━━━━━━━━━━━━\u001b[0m\u001b[37m\u001b[0m \u001b[1m9s\u001b[0m 14ms/step - accuracy: 0.6189 - loss: 1.7294\n"
     ]
    },
    {
     "data": {
      "text/plain": [
       "[1.2711989879608154, 0.7078999876976013]"
      ]
     },
     "execution_count": 76,
     "metadata": {},
     "output_type": "execute_result"
    }
   ],
   "source": [
    "model.evaluate(X_test,y_test)"
   ]
  },
  {
   "cell_type": "code",
   "execution_count": 77,
   "id": "d830f6b1-c704-48ab-880e-23d5b1d13adc",
   "metadata": {},
   "outputs": [
    {
     "name": "stdout",
     "output_type": "stream",
     "text": [
      "\u001b[1m625/625\u001b[0m \u001b[32m━━━━━━━━━━━━━━━━━━━━\u001b[0m\u001b[37m\u001b[0m \u001b[1m9s\u001b[0m 14ms/step\n"
     ]
    }
   ],
   "source": [
    "y_pred  = model.predict(X_test)"
   ]
  },
  {
   "cell_type": "code",
   "execution_count": 65,
   "id": "f12ebcab",
   "metadata": {},
   "outputs": [],
   "source": [
    "# from sklearn.metrics import accuracy_score\n",
    "# #accuracy = accuracy_score(y_test, y_pred)\n",
    "# # Assuming y_pred contains probabilities, thresholding at 0.5\n",
    "# y_pred_binary = (y_pred >= 0.5).astype(int)\n",
    "# accuracy = accuracy_score(y_test, y_pred_binary)"
   ]
  },
  {
   "cell_type": "code",
   "execution_count": 60,
   "id": "82e87f79",
   "metadata": {},
   "outputs": [
    {
     "name": "stdout",
     "output_type": "stream",
     "text": [
      "(20000,) (20000, 2)\n"
     ]
    }
   ],
   "source": [
    "print(y_test.shape, y_pred.shape)\n",
    "print(y_test[:10], y_pred[:10])\n"
   ]
  },
  {
   "cell_type": "code",
   "execution_count": 61,
   "id": "1dabfd3a",
   "metadata": {},
   "outputs": [
    {
     "name": "stdout",
     "output_type": "stream",
     "text": [
      "\u001b[1m625/625\u001b[0m \u001b[32m━━━━━━━━━━━━━━━━━━━━\u001b[0m\u001b[37m\u001b[0m \u001b[1m9s\u001b[0m 14ms/step\n"
     ]
    }
   ],
   "source": [
    "y_pred = model.predict(X_test)  # This gives class labels"
   ]
  },
  {
   "cell_type": "code",
   "execution_count": 78,
   "id": "d62b31e7",
   "metadata": {},
   "outputs": [
    {
     "name": "stdout",
     "output_type": "stream",
     "text": [
      "Accuracy: 0.7079\n"
     ]
    }
   ],
   "source": [
    "from sklearn.metrics import accuracy_score\n",
    "\n",
    "# Assuming y_test and y_pred are the true and predicted labels respectively\n",
    "\n",
    "# If y_pred contains probabilities, convert them to binary labels\n",
    "if y_pred.ndim == 2 and y_pred.shape[1] == 2:  # For binary classification\n",
    "    y_pred_binary = (y_pred[:, 1] >= 0.5).astype(int)  # Threshold at 0.5 for class 1\n",
    "else:\n",
    "    y_pred_binary = y_pred  # In case y_pred is already binary\n",
    "\n",
    "# Now calculate accuracy\n",
    "accuracy = accuracy_score(y_test, y_pred_binary)\n",
    "print(\"Accuracy:\", accuracy)\n"
   ]
  },
  {
   "cell_type": "code",
   "execution_count": 79,
   "id": "4040dc4b-33c9-4b26-bff7-97a56202eb14",
   "metadata": {},
   "outputs": [
    {
     "data": {
      "text/plain": [
       "[0, 0, 0, 0, 0]"
      ]
     },
     "execution_count": 79,
     "metadata": {},
     "output_type": "execute_result"
    }
   ],
   "source": [
    "y_pred_label = [np.argmax(i) for i in y_pred]\n",
    "y_pred_label[:5]"
   ]
  },
  {
   "cell_type": "markdown",
   "id": "bb8f806e-e445-45ff-b60d-70f4fc4aed57",
   "metadata": {},
   "source": [
    "Classification Report"
   ]
  },
  {
   "cell_type": "code",
   "execution_count": 80,
   "id": "26bbb087-3a44-4630-a565-5fb2f76fee55",
   "metadata": {},
   "outputs": [
    {
     "name": "stdout",
     "output_type": "stream",
     "text": [
      "Classification Report     : \n",
      "\n",
      "\n",
      "               precision    recall  f1-score   support\n",
      "\n",
      "           0       0.87      0.49      0.63     10000\n",
      "           1       0.64      0.93      0.76     10000\n",
      "\n",
      "    accuracy                           0.71     20000\n",
      "   macro avg       0.76      0.71      0.69     20000\n",
      "weighted avg       0.76      0.71      0.69     20000\n",
      "\n"
     ]
    }
   ],
   "source": [
    "from sklearn.metrics import classification_report\n",
    "\n",
    "print('Classification Report     : \\n\\n\\n' , classification_report(y_test,y_pred_label))"
   ]
  },
  {
   "cell_type": "markdown",
   "id": "b8e9736a-7c2b-4c44-aef3-5da46ac88ad5",
   "metadata": {},
   "source": [
    "Confusion Matrix"
   ]
  },
  {
   "cell_type": "code",
   "execution_count": 81,
   "id": "64feb641-f014-402b-b42c-66dbedb2ee1b",
   "metadata": {},
   "outputs": [
    {
     "name": "stdout",
     "output_type": "stream",
     "text": [
      "[[4899 5101]\n",
      " [ 741 9259]]\n"
     ]
    }
   ],
   "source": [
    "from sklearn.metrics import confusion_matrix\n",
    "\n",
    "cm = confusion_matrix(y_test , y_pred_label)\n",
    "print(cm)"
   ]
  },
  {
   "cell_type": "code",
   "execution_count": 82,
   "id": "54d2cc86-8c55-4075-ae31-4e6f9d478715",
   "metadata": {},
   "outputs": [
    {
     "name": "stderr",
     "output_type": "stream",
     "text": [
      "findfont: Generic family 'fantasy' not found because none of the following families were found: Chicago, Charcoal, Impact, Western, Humor Sans, xkcd, fantasy\n",
      "findfont: Generic family 'fantasy' not found because none of the following families were found: Chicago, Charcoal, Impact, Western, Humor Sans, xkcd, fantasy\n",
      "findfont: Generic family 'fantasy' not found because none of the following families were found: Chicago, Charcoal, Impact, Western, Humor Sans, xkcd, fantasy\n",
      "findfont: Generic family 'fantasy' not found because none of the following families were found: Chicago, Charcoal, Impact, Western, Humor Sans, xkcd, fantasy\n",
      "findfont: Generic family 'fantasy' not found because none of the following families were found: Chicago, Charcoal, Impact, Western, Humor Sans, xkcd, fantasy\n",
      "findfont: Generic family 'fantasy' not found because none of the following families were found: Chicago, Charcoal, Impact, Western, Humor Sans, xkcd, fantasy\n",
      "findfont: Generic family 'fantasy' not found because none of the following families were found: Chicago, Charcoal, Impact, Western, Humor Sans, xkcd, fantasy\n",
      "findfont: Generic family 'fantasy' not found because none of the following families were found: Chicago, Charcoal, Impact, Western, Humor Sans, xkcd, fantasy\n",
      "findfont: Generic family 'fantasy' not found because none of the following families were found: Chicago, Charcoal, Impact, Western, Humor Sans, xkcd, fantasy\n",
      "findfont: Generic family 'fantasy' not found because none of the following families were found: Chicago, Charcoal, Impact, Western, Humor Sans, xkcd, fantasy\n",
      "findfont: Generic family 'fantasy' not found because none of the following families were found: Chicago, Charcoal, Impact, Western, Humor Sans, xkcd, fantasy\n",
      "findfont: Generic family 'fantasy' not found because none of the following families were found: Chicago, Charcoal, Impact, Western, Humor Sans, xkcd, fantasy\n",
      "findfont: Generic family 'fantasy' not found because none of the following families were found: Chicago, Charcoal, Impact, Western, Humor Sans, xkcd, fantasy\n"
     ]
    },
    {
     "data": {
      "image/png": "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\n",
      "text/plain": [
       "<Figure size 400x400 with 2 Axes>"
      ]
     },
     "metadata": {},
     "output_type": "display_data"
    }
   ],
   "source": [
    "import matplotlib.pyplot as plt\n",
    "import seaborn as sn\n",
    "\n",
    "\n",
    "plt.figure(figsize=(4,4), facecolor= 'pink', edgecolor='brown')\n",
    "sn.heatmap(cm , annot= True, fmt=\"d\")\n",
    "plt.xlabel('Prediction', fontdict= {'family':'fantasy','color':'black','size':15})\n",
    "plt.ylabel('Truth', fontdict= {'family':'fantasy','color':'black','size':15})\n",
    "plt.title('Confusion Matrix',fontdict= {'family':'fantasy','color':'red','size':20})\n",
    "plt.show()"
   ]
  },
  {
   "cell_type": "code",
   "execution_count": null,
   "id": "9dfa1da3-ef57-4f0c-a452-a607b45e9b25",
   "metadata": {},
   "outputs": [],
   "source": []
  },
  {
   "cell_type": "code",
   "execution_count": null,
   "id": "1424599c-1d41-479a-9c09-f4e76229c559",
   "metadata": {},
   "outputs": [],
   "source": []
  }
 ],
 "metadata": {
  "kernelspec": {
   "display_name": "Python 3 (ipykernel)",
   "language": "python",
   "name": "python3"
  },
  "language_info": {
   "codemirror_mode": {
    "name": "ipython",
    "version": 3
   },
   "file_extension": ".py",
   "mimetype": "text/x-python",
   "name": "python",
   "nbconvert_exporter": "python",
   "pygments_lexer": "ipython3",
   "version": "3.10.12"
  }
 },
 "nbformat": 4,
 "nbformat_minor": 5
}
